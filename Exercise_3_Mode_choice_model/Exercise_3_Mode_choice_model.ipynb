{
 "nbformat": 4,
 "nbformat_minor": 0,
 "metadata": {
  "colab": {
   "provenance": []
  },
  "kernelspec": {
   "name": "python3",
   "display_name": "Python 3 (ipykernel)",
   "language": "python"
  },
  "language_info": {
   "name": "python"
  }
 },
 "cells": [
  {
   "cell_type": "markdown",
   "source": [
    "# Exercise 3: Mode choice classification\n",
    "\n",
    "Transportation mode choice is a critical decision-making process that individuals, businesses, and urban planners face daily. It involves selecting the most suitable mode of transportation for a given journey/trip, taking into account factors such as cost, time, convenience, and environmental impact. In this tutorial, we will explore how to address the mode choice problem using classification models.\n",
    "\n",
    "**Key points to cover:**\n",
    "\n",
    "* Mode choice problem;\n",
    "* *Encoding techniques* for categorical variables\n",
    "* Classification models *implementation*\n",
    "* Classification models *evaluation metrics*\n"
   ],
   "metadata": {
    "id": "R__DcXTj-zbL"
   }
  },
  {
   "cell_type": "code",
   "metadata": {
    "id": "121uD1UhQ_-X",
    "ExecuteTime": {
     "end_time": "2024-09-02T11:47:55.513620Z",
     "start_time": "2024-09-02T11:47:55.507224Z"
    }
   },
   "source": [
    "import pandas as pd\n",
    "from statistics import mode\n",
    "import numpy as np\n",
    "import os"
   ],
   "outputs": [],
   "execution_count": 17
  },
  {
   "cell_type": "markdown",
   "source": [
    "## Loading the dataset"
   ],
   "metadata": {
    "id": "08qMPRhP_ci_"
   }
  },
  {
   "cell_type": "code",
   "source": [
    "# The path of the dataset\n",
    "#url = 'https://raw.githubusercontent.com/zhenliangma/Applied-AI-in-Transportation/master/Exercise_3_Mode_choice_model/modeChoiceData.csv'\n",
    "\n",
    "# Load the data use the pandas\n",
    "#moide_choice_data = pd.read_csv(url)\n",
    "\n",
    "mode_choice_data = pd.read_csv('''C:/Users/jecla/Documents/Applied-AI-in-Transportation/Exercise_3_Mode_choice_model/modeChoiceData.csv''')\n",
    "mode_choice_data.head()"
   ],
   "metadata": {
    "id": "Ap0p7etz_bgX",
    "ExecuteTime": {
     "end_time": "2024-09-02T11:47:57.491486Z",
     "start_time": "2024-09-02T11:47:57.464309Z"
    }
   },
   "outputs": [
    {
     "data": {
      "text/plain": [
       "   ID  time_car  cost_car  time_bus  cost_bus  access_bus  time_air  cost_air  \\\n",
       "0   1       275        50       330        35          20        80        65   \n",
       "1   2       275        45       330        15           5        70       110   \n",
       "2   3       275        45       390        15          25        70        80   \n",
       "3   4       300        45       300        15          10        60       110   \n",
       "4   5       390        35       390        35          10        60        95   \n",
       "\n",
       "   access_air service_air  time_rail  cost_rail  access_rail service_rail  \\\n",
       "0          55        food        120         45            5    no-frills   \n",
       "1          40        wifi        170         55           25         food   \n",
       "2          55   no-frills        155         35            5    no-frills   \n",
       "3          40        wifi        155         65           20    no-frills   \n",
       "4          45        wifi        155         65           15         food   \n",
       "\n",
       "  choice  \n",
       "0    air  \n",
       "1   rail  \n",
       "2   rail  \n",
       "3   rail  \n",
       "4   rail  "
      ],
      "text/html": [
       "<div>\n",
       "<style scoped>\n",
       "    .dataframe tbody tr th:only-of-type {\n",
       "        vertical-align: middle;\n",
       "    }\n",
       "\n",
       "    .dataframe tbody tr th {\n",
       "        vertical-align: top;\n",
       "    }\n",
       "\n",
       "    .dataframe thead th {\n",
       "        text-align: right;\n",
       "    }\n",
       "</style>\n",
       "<table border=\"1\" class=\"dataframe\">\n",
       "  <thead>\n",
       "    <tr style=\"text-align: right;\">\n",
       "      <th></th>\n",
       "      <th>ID</th>\n",
       "      <th>time_car</th>\n",
       "      <th>cost_car</th>\n",
       "      <th>time_bus</th>\n",
       "      <th>cost_bus</th>\n",
       "      <th>access_bus</th>\n",
       "      <th>time_air</th>\n",
       "      <th>cost_air</th>\n",
       "      <th>access_air</th>\n",
       "      <th>service_air</th>\n",
       "      <th>time_rail</th>\n",
       "      <th>cost_rail</th>\n",
       "      <th>access_rail</th>\n",
       "      <th>service_rail</th>\n",
       "      <th>choice</th>\n",
       "    </tr>\n",
       "  </thead>\n",
       "  <tbody>\n",
       "    <tr>\n",
       "      <th>0</th>\n",
       "      <td>1</td>\n",
       "      <td>275</td>\n",
       "      <td>50</td>\n",
       "      <td>330</td>\n",
       "      <td>35</td>\n",
       "      <td>20</td>\n",
       "      <td>80</td>\n",
       "      <td>65</td>\n",
       "      <td>55</td>\n",
       "      <td>food</td>\n",
       "      <td>120</td>\n",
       "      <td>45</td>\n",
       "      <td>5</td>\n",
       "      <td>no-frills</td>\n",
       "      <td>air</td>\n",
       "    </tr>\n",
       "    <tr>\n",
       "      <th>1</th>\n",
       "      <td>2</td>\n",
       "      <td>275</td>\n",
       "      <td>45</td>\n",
       "      <td>330</td>\n",
       "      <td>15</td>\n",
       "      <td>5</td>\n",
       "      <td>70</td>\n",
       "      <td>110</td>\n",
       "      <td>40</td>\n",
       "      <td>wifi</td>\n",
       "      <td>170</td>\n",
       "      <td>55</td>\n",
       "      <td>25</td>\n",
       "      <td>food</td>\n",
       "      <td>rail</td>\n",
       "    </tr>\n",
       "    <tr>\n",
       "      <th>2</th>\n",
       "      <td>3</td>\n",
       "      <td>275</td>\n",
       "      <td>45</td>\n",
       "      <td>390</td>\n",
       "      <td>15</td>\n",
       "      <td>25</td>\n",
       "      <td>70</td>\n",
       "      <td>80</td>\n",
       "      <td>55</td>\n",
       "      <td>no-frills</td>\n",
       "      <td>155</td>\n",
       "      <td>35</td>\n",
       "      <td>5</td>\n",
       "      <td>no-frills</td>\n",
       "      <td>rail</td>\n",
       "    </tr>\n",
       "    <tr>\n",
       "      <th>3</th>\n",
       "      <td>4</td>\n",
       "      <td>300</td>\n",
       "      <td>45</td>\n",
       "      <td>300</td>\n",
       "      <td>15</td>\n",
       "      <td>10</td>\n",
       "      <td>60</td>\n",
       "      <td>110</td>\n",
       "      <td>40</td>\n",
       "      <td>wifi</td>\n",
       "      <td>155</td>\n",
       "      <td>65</td>\n",
       "      <td>20</td>\n",
       "      <td>no-frills</td>\n",
       "      <td>rail</td>\n",
       "    </tr>\n",
       "    <tr>\n",
       "      <th>4</th>\n",
       "      <td>5</td>\n",
       "      <td>390</td>\n",
       "      <td>35</td>\n",
       "      <td>390</td>\n",
       "      <td>35</td>\n",
       "      <td>10</td>\n",
       "      <td>60</td>\n",
       "      <td>95</td>\n",
       "      <td>45</td>\n",
       "      <td>wifi</td>\n",
       "      <td>155</td>\n",
       "      <td>65</td>\n",
       "      <td>15</td>\n",
       "      <td>food</td>\n",
       "      <td>rail</td>\n",
       "    </tr>\n",
       "  </tbody>\n",
       "</table>\n",
       "</div>"
      ]
     },
     "execution_count": 18,
     "metadata": {},
     "output_type": "execute_result"
    }
   ],
   "execution_count": 18
  },
  {
   "cell_type": "markdown",
   "source": [
    "## Data Preparation\n",
    "\n",
    "Transform the dataset into a binary classification problem: car vs. rail."
   ],
   "metadata": {
    "id": "ug2z8HSFiFua"
   }
  },
  {
   "cell_type": "code",
   "source": [
    "mode_choice_car_df = (\n",
    "    mode_choice_data.loc[mode_choice_data[\"choice\"].isin([\"car\", \"rail\"]),\n",
    "     [\"time_car\", \"cost_car\", \"time_rail\", \"cost_rail\", \"access_rail\", \"service_rail\", \"choice\"]]\n",
    "    .reset_index()\n",
    "    .drop(columns=[\"index\"])\n",
    ")"
   ],
   "metadata": {
    "id": "LIXnje53RCM8",
    "ExecuteTime": {
     "end_time": "2024-09-02T11:48:41.144482Z",
     "start_time": "2024-09-02T11:48:41.132191Z"
    }
   },
   "outputs": [],
   "execution_count": 19
  },
  {
   "cell_type": "markdown",
   "source": [
    "Check the distribution of the classes:"
   ],
   "metadata": {
    "id": "_J1clfo5oO43"
   }
  },
  {
   "cell_type": "code",
   "source": [
    "import seaborn as sns\n",
    "import matplotlib.pyplot as plt\n",
    "\n",
    "# Assuming the classes are stored in a column called 'class'\n",
    "sns.countplot(data=mode_choice_car_df, x='choice')\n",
    "\n",
    "# Add title and labels\n",
    "plt.title('Distribution of Classes')\n",
    "plt.xlabel('Class')\n",
    "plt.ylabel('Count')\n",
    "\n",
    "# Show the plot\n",
    "plt.show()"
   ],
   "metadata": {
    "colab": {
     "base_uri": "https://localhost:8080/",
     "height": 472
    },
    "id": "C1pIrz7voMky",
    "outputId": "a0c35651-1e23-46e5-abcf-a0813aae6853",
    "ExecuteTime": {
     "end_time": "2024-09-02T11:48:44.457578Z",
     "start_time": "2024-09-02T11:48:44.287866Z"
    }
   },
   "outputs": [
    {
     "data": {
      "text/plain": [
       "<Figure size 640x480 with 1 Axes>"
      ],
      "image/png": "[encoded data removed]"
     },
     "metadata": {},
     "output_type": "display_data"
    }
   ],
   "execution_count": 20
  },
  {
   "cell_type": "code",
   "source": [
    "mode_choice_car_df.head(10)"
   ],
   "metadata": {
    "colab": {
     "base_uri": "https://localhost:8080/",
     "height": 363
    },
    "id": "jDGQL7Gnoy8C",
    "outputId": "24de7a26-30b8-44c5-9644-486c00e49977",
    "ExecuteTime": {
     "end_time": "2024-09-02T11:49:00.282426Z",
     "start_time": "2024-09-02T11:49:00.270029Z"
    }
   },
   "outputs": [
    {
     "data": {
      "text/plain": [
       "   time_car  cost_car  time_rail  cost_rail  access_rail service_rail choice\n",
       "0       275        45        170         55           25         food   rail\n",
       "1       275        45        155         35            5    no-frills   rail\n",
       "2       300        45        155         65           20    no-frills   rail\n",
       "3       390        35        155         65           15         food   rail\n",
       "4       275        40        155         55            5         food   rail\n",
       "5       250        50        120         65           20         wifi   rail\n",
       "6       275        30        155         65           25         wifi    car\n",
       "7       300        45        170         45            5    no-frills   rail\n",
       "8       345        30        140         65           15    no-frills    car\n",
       "9       250        40        140         75           20         wifi    car"
      ],
      "text/html": [
       "<div>\n",
       "<style scoped>\n",
       "    .dataframe tbody tr th:only-of-type {\n",
       "        vertical-align: middle;\n",
       "    }\n",
       "\n",
       "    .dataframe tbody tr th {\n",
       "        vertical-align: top;\n",
       "    }\n",
       "\n",
       "    .dataframe thead th {\n",
       "        text-align: right;\n",
       "    }\n",
       "</style>\n",
       "<table border=\"1\" class=\"dataframe\">\n",
       "  <thead>\n",
       "    <tr style=\"text-align: right;\">\n",
       "      <th></th>\n",
       "      <th>time_car</th>\n",
       "      <th>cost_car</th>\n",
       "      <th>time_rail</th>\n",
       "      <th>cost_rail</th>\n",
       "      <th>access_rail</th>\n",
       "      <th>service_rail</th>\n",
       "      <th>choice</th>\n",
       "    </tr>\n",
       "  </thead>\n",
       "  <tbody>\n",
       "    <tr>\n",
       "      <th>0</th>\n",
       "      <td>275</td>\n",
       "      <td>45</td>\n",
       "      <td>170</td>\n",
       "      <td>55</td>\n",
       "      <td>25</td>\n",
       "      <td>food</td>\n",
       "      <td>rail</td>\n",
       "    </tr>\n",
       "    <tr>\n",
       "      <th>1</th>\n",
       "      <td>275</td>\n",
       "      <td>45</td>\n",
       "      <td>155</td>\n",
       "      <td>35</td>\n",
       "      <td>5</td>\n",
       "      <td>no-frills</td>\n",
       "      <td>rail</td>\n",
       "    </tr>\n",
       "    <tr>\n",
       "      <th>2</th>\n",
       "      <td>300</td>\n",
       "      <td>45</td>\n",
       "      <td>155</td>\n",
       "      <td>65</td>\n",
       "      <td>20</td>\n",
       "      <td>no-frills</td>\n",
       "      <td>rail</td>\n",
       "    </tr>\n",
       "    <tr>\n",
       "      <th>3</th>\n",
       "      <td>390</td>\n",
       "      <td>35</td>\n",
       "      <td>155</td>\n",
       "      <td>65</td>\n",
       "      <td>15</td>\n",
       "      <td>food</td>\n",
       "      <td>rail</td>\n",
       "    </tr>\n",
       "    <tr>\n",
       "      <th>4</th>\n",
       "      <td>275</td>\n",
       "      <td>40</td>\n",
       "      <td>155</td>\n",
       "      <td>55</td>\n",
       "      <td>5</td>\n",
       "      <td>food</td>\n",
       "      <td>rail</td>\n",
       "    </tr>\n",
       "    <tr>\n",
       "      <th>5</th>\n",
       "      <td>250</td>\n",
       "      <td>50</td>\n",
       "      <td>120</td>\n",
       "      <td>65</td>\n",
       "      <td>20</td>\n",
       "      <td>wifi</td>\n",
       "      <td>rail</td>\n",
       "    </tr>\n",
       "    <tr>\n",
       "      <th>6</th>\n",
       "      <td>275</td>\n",
       "      <td>30</td>\n",
       "      <td>155</td>\n",
       "      <td>65</td>\n",
       "      <td>25</td>\n",
       "      <td>wifi</td>\n",
       "      <td>car</td>\n",
       "    </tr>\n",
       "    <tr>\n",
       "      <th>7</th>\n",
       "      <td>300</td>\n",
       "      <td>45</td>\n",
       "      <td>170</td>\n",
       "      <td>45</td>\n",
       "      <td>5</td>\n",
       "      <td>no-frills</td>\n",
       "      <td>rail</td>\n",
       "    </tr>\n",
       "    <tr>\n",
       "      <th>8</th>\n",
       "      <td>345</td>\n",
       "      <td>30</td>\n",
       "      <td>140</td>\n",
       "      <td>65</td>\n",
       "      <td>15</td>\n",
       "      <td>no-frills</td>\n",
       "      <td>car</td>\n",
       "    </tr>\n",
       "    <tr>\n",
       "      <th>9</th>\n",
       "      <td>250</td>\n",
       "      <td>40</td>\n",
       "      <td>140</td>\n",
       "      <td>75</td>\n",
       "      <td>20</td>\n",
       "      <td>wifi</td>\n",
       "      <td>car</td>\n",
       "    </tr>\n",
       "  </tbody>\n",
       "</table>\n",
       "</div>"
      ]
     },
     "execution_count": 21,
     "metadata": {},
     "output_type": "execute_result"
    }
   ],
   "execution_count": 21
  },
  {
   "cell_type": "markdown",
   "source": [
    "Get to know the different values for the categorical variable *service rail*."
   ],
   "metadata": {
    "id": "_kbmqIKe_o_r"
   }
  },
  {
   "cell_type": "code",
   "source": [
    "mode_choice_car_df.service_rail.unique()"
   ],
   "metadata": {
    "colab": {
     "base_uri": "https://localhost:8080/"
    },
    "id": "xYPlPLYAByX0",
    "outputId": "41e4fe84-f5ca-4bba-df43-e797163f5a0e",
    "ExecuteTime": {
     "end_time": "2024-09-02T11:49:05.485050Z",
     "start_time": "2024-09-02T11:49:05.477267Z"
    }
   },
   "outputs": [
    {
     "data": {
      "text/plain": [
       "array(['food', 'no-frills', 'wifi'], dtype=object)"
      ]
     },
     "execution_count": 22,
     "metadata": {},
     "output_type": "execute_result"
    }
   ],
   "execution_count": 22
  },
  {
   "cell_type": "markdown",
   "source": [
    "Get an overview about the statistics of the numerical columns:"
   ],
   "metadata": {
    "id": "B78canKCB2_i"
   }
  },
  {
   "cell_type": "code",
   "source": [
    "mode_choice_car_df.describe()"
   ],
   "metadata": {
    "colab": {
     "base_uri": "https://localhost:8080/",
     "height": 300
    },
    "id": "dqd3oJ9Epqw7",
    "outputId": "8d7a467c-09d1-42fb-9519-76865e927845",
    "ExecuteTime": {
     "end_time": "2024-09-02T11:49:08.251661Z",
     "start_time": "2024-09-02T11:49:08.229896Z"
    }
   },
   "outputs": [
    {
     "data": {
      "text/plain": [
       "          time_car     cost_car    time_rail    cost_rail  access_rail\n",
       "count  2266.000000  2266.000000  2266.000000  2266.000000  2266.000000\n",
       "mean    310.505296    40.083848   143.175199    53.415711    15.037511\n",
       "std      49.424710     6.988924    18.236603    14.285212     7.127716\n",
       "min     250.000000    30.000000   120.000000    35.000000     5.000000\n",
       "25%     275.000000    35.000000   130.000000    45.000000    10.000000\n",
       "50%     300.000000    40.000000   140.000000    55.000000    15.000000\n",
       "75%     345.000000    45.000000   155.000000    65.000000    20.000000\n",
       "max     390.000000    50.000000   170.000000    75.000000    25.000000"
      ],
      "text/html": [
       "<div>\n",
       "<style scoped>\n",
       "    .dataframe tbody tr th:only-of-type {\n",
       "        vertical-align: middle;\n",
       "    }\n",
       "\n",
       "    .dataframe tbody tr th {\n",
       "        vertical-align: top;\n",
       "    }\n",
       "\n",
       "    .dataframe thead th {\n",
       "        text-align: right;\n",
       "    }\n",
       "</style>\n",
       "<table border=\"1\" class=\"dataframe\">\n",
       "  <thead>\n",
       "    <tr style=\"text-align: right;\">\n",
       "      <th></th>\n",
       "      <th>time_car</th>\n",
       "      <th>cost_car</th>\n",
       "      <th>time_rail</th>\n",
       "      <th>cost_rail</th>\n",
       "      <th>access_rail</th>\n",
       "    </tr>\n",
       "  </thead>\n",
       "  <tbody>\n",
       "    <tr>\n",
       "      <th>count</th>\n",
       "      <td>2266.000000</td>\n",
       "      <td>2266.000000</td>\n",
       "      <td>2266.000000</td>\n",
       "      <td>2266.000000</td>\n",
       "      <td>2266.000000</td>\n",
       "    </tr>\n",
       "    <tr>\n",
       "      <th>mean</th>\n",
       "      <td>310.505296</td>\n",
       "      <td>40.083848</td>\n",
       "      <td>143.175199</td>\n",
       "      <td>53.415711</td>\n",
       "      <td>15.037511</td>\n",
       "    </tr>\n",
       "    <tr>\n",
       "      <th>std</th>\n",
       "      <td>49.424710</td>\n",
       "      <td>6.988924</td>\n",
       "      <td>18.236603</td>\n",
       "      <td>14.285212</td>\n",
       "      <td>7.127716</td>\n",
       "    </tr>\n",
       "    <tr>\n",
       "      <th>min</th>\n",
       "      <td>250.000000</td>\n",
       "      <td>30.000000</td>\n",
       "      <td>120.000000</td>\n",
       "      <td>35.000000</td>\n",
       "      <td>5.000000</td>\n",
       "    </tr>\n",
       "    <tr>\n",
       "      <th>25%</th>\n",
       "      <td>275.000000</td>\n",
       "      <td>35.000000</td>\n",
       "      <td>130.000000</td>\n",
       "      <td>45.000000</td>\n",
       "      <td>10.000000</td>\n",
       "    </tr>\n",
       "    <tr>\n",
       "      <th>50%</th>\n",
       "      <td>300.000000</td>\n",
       "      <td>40.000000</td>\n",
       "      <td>140.000000</td>\n",
       "      <td>55.000000</td>\n",
       "      <td>15.000000</td>\n",
       "    </tr>\n",
       "    <tr>\n",
       "      <th>75%</th>\n",
       "      <td>345.000000</td>\n",
       "      <td>45.000000</td>\n",
       "      <td>155.000000</td>\n",
       "      <td>65.000000</td>\n",
       "      <td>20.000000</td>\n",
       "    </tr>\n",
       "    <tr>\n",
       "      <th>max</th>\n",
       "      <td>390.000000</td>\n",
       "      <td>50.000000</td>\n",
       "      <td>170.000000</td>\n",
       "      <td>75.000000</td>\n",
       "      <td>25.000000</td>\n",
       "    </tr>\n",
       "  </tbody>\n",
       "</table>\n",
       "</div>"
      ]
     },
     "execution_count": 23,
     "metadata": {},
     "output_type": "execute_result"
    }
   ],
   "execution_count": 23
  },
  {
   "cell_type": "markdown",
   "source": [
    "### Train-Test Split\n",
    "\n",
    "We divide the data first into its explaining variables/features (X) and the variable that we want to predict/target (y).\n",
    "\n",
    "Afterwards we create a train and test set with a 80%/20% split."
   ],
   "metadata": {
    "id": "VdOghmNYplJe"
   }
  },
  {
   "cell_type": "code",
   "source": [
    "from sklearn.model_selection import train_test_split\n",
    "\n",
    "X = mode_choice_car_df.drop(columns=[\"choice\"])\n",
    "y = mode_choice_car_df[\"choice\"]\n",
    "\n",
    "X_train, X_test, y_train, y_test = train_test_split(X, y, test_size=0.2, random_state=0)"
   ],
   "metadata": {
    "id": "iT2X2dEbbzhA",
    "ExecuteTime": {
     "end_time": "2024-09-02T11:49:19.087237Z",
     "start_time": "2024-09-02T11:49:19.076192Z"
    }
   },
   "outputs": [],
   "execution_count": 24
  },
  {
   "cell_type": "code",
   "source": [
    "X_train.head()"
   ],
   "metadata": {
    "colab": {
     "base_uri": "https://localhost:8080/",
     "height": 206
    },
    "id": "rbDd-RyPCuCm",
    "outputId": "5039cc61-68e1-45b8-921a-7fe370a72f50",
    "ExecuteTime": {
     "end_time": "2024-09-02T11:49:22.545754Z",
     "start_time": "2024-09-02T11:49:22.531816Z"
    }
   },
   "outputs": [
    {
     "data": {
      "text/plain": [
       "      time_car  cost_car  time_rail  cost_rail  access_rail service_rail\n",
       "1150       250        45        170         35           15         food\n",
       "1538       275        35        140         65           20         food\n",
       "1254       300        40        140         55           25         food\n",
       "1843       345        45        130         45           10    no-frills\n",
       "977        345        35        140         45           25         food"
      ],
      "text/html": [
       "<div>\n",
       "<style scoped>\n",
       "    .dataframe tbody tr th:only-of-type {\n",
       "        vertical-align: middle;\n",
       "    }\n",
       "\n",
       "    .dataframe tbody tr th {\n",
       "        vertical-align: top;\n",
       "    }\n",
       "\n",
       "    .dataframe thead th {\n",
       "        text-align: right;\n",
       "    }\n",
       "</style>\n",
       "<table border=\"1\" class=\"dataframe\">\n",
       "  <thead>\n",
       "    <tr style=\"text-align: right;\">\n",
       "      <th></th>\n",
       "      <th>time_car</th>\n",
       "      <th>cost_car</th>\n",
       "      <th>time_rail</th>\n",
       "      <th>cost_rail</th>\n",
       "      <th>access_rail</th>\n",
       "      <th>service_rail</th>\n",
       "    </tr>\n",
       "  </thead>\n",
       "  <tbody>\n",
       "    <tr>\n",
       "      <th>1150</th>\n",
       "      <td>250</td>\n",
       "      <td>45</td>\n",
       "      <td>170</td>\n",
       "      <td>35</td>\n",
       "      <td>15</td>\n",
       "      <td>food</td>\n",
       "    </tr>\n",
       "    <tr>\n",
       "      <th>1538</th>\n",
       "      <td>275</td>\n",
       "      <td>35</td>\n",
       "      <td>140</td>\n",
       "      <td>65</td>\n",
       "      <td>20</td>\n",
       "      <td>food</td>\n",
       "    </tr>\n",
       "    <tr>\n",
       "      <th>1254</th>\n",
       "      <td>300</td>\n",
       "      <td>40</td>\n",
       "      <td>140</td>\n",
       "      <td>55</td>\n",
       "      <td>25</td>\n",
       "      <td>food</td>\n",
       "    </tr>\n",
       "    <tr>\n",
       "      <th>1843</th>\n",
       "      <td>345</td>\n",
       "      <td>45</td>\n",
       "      <td>130</td>\n",
       "      <td>45</td>\n",
       "      <td>10</td>\n",
       "      <td>no-frills</td>\n",
       "    </tr>\n",
       "    <tr>\n",
       "      <th>977</th>\n",
       "      <td>345</td>\n",
       "      <td>35</td>\n",
       "      <td>140</td>\n",
       "      <td>45</td>\n",
       "      <td>25</td>\n",
       "      <td>food</td>\n",
       "    </tr>\n",
       "  </tbody>\n",
       "</table>\n",
       "</div>"
      ]
     },
     "execution_count": 25,
     "metadata": {},
     "output_type": "execute_result"
    }
   ],
   "execution_count": 25
  },
  {
   "cell_type": "markdown",
   "source": [
    "### Scaling and Encoding the features\n",
    "\n",
    "We remember: especially for distance calculations we need to scale the features to ensure equal influence.\n",
    "\n",
    "Furthermore, we have a categorical variable in our dataset: *service_rail*. We need to treat this variable by an encoding technique before using it. In this case we have decided for one-hot encoding.\n"
   ],
   "metadata": {
    "id": "2oxjUFBZpVaq"
   }
  },
  {
   "cell_type": "code",
   "source": [
    "from sklearn.preprocessing import StandardScaler, OneHotEncoder\n",
    "\n",
    "# Define which columns should be encoded vs scaled\n",
    "columns_to_encode = [\"service_rail\"]\n",
    "columns_to_scale  = [\"time_car\", \"cost_car\", \"time_rail\", \"cost_rail\", \"access_rail\"]\n",
    "\n",
    "# Instantiate encoder/scaler\n",
    "scaler = StandardScaler()\n",
    "ohe = OneHotEncoder(sparse_output=False)\n",
    "\n",
    "# Scale and Encode Separate Columns\n",
    "X_train_scaled_columns  = scaler.fit_transform(X_train[columns_to_scale])\n",
    "X_train_encoded_columns = ohe.fit_transform(X_train[columns_to_encode])\n",
    "\n",
    "X_test_scaled_columns  = scaler.transform(X_test[columns_to_scale])\n",
    "X_test_encoded_columns = ohe.transform(X_test[columns_to_encode])\n",
    "\n",
    "# Concatenate (Column-Bind) Processed Columns Back Together\n",
    "X_train_processed = np.concatenate([X_train_scaled_columns, X_train_encoded_columns], axis=1)\n",
    "X_test_processed = np.concatenate([X_test_scaled_columns, X_test_encoded_columns], axis=1)"
   ],
   "metadata": {
    "colab": {
     "base_uri": "https://localhost:8080/"
    },
    "id": "f3ZwFGzjCDhz",
    "outputId": "8bb55c5f-08ea-4998-e871-79bffacb9b49",
    "ExecuteTime": {
     "end_time": "2024-09-02T11:50:35.772075Z",
     "start_time": "2024-09-02T11:50:35.752254Z"
    }
   },
   "outputs": [],
   "execution_count": 26
  },
  {
   "cell_type": "markdown",
   "source": [
    "## Task 1: Build your own KNN classifier\n",
    "\n",
    "Your task is now to implement the KNN algorithm yourself. Return the classification of the unclassified point (*X_unclassified*).\n",
    "\n",
    "Python methods that might be helpful:\n",
    "- **for-loop**: ```for value in mylist:```\n",
    "- **Append values to a list:** ```my_list.append(value)```\n",
    "- **Get the indices of the n smallest values of the list mylist**: ```np.argsort(my_list)[:n]```\n",
    "- **Gets the values from a pandas series at the location of the given indices**: ```y_train.iloc[indices]```\n",
    "- **Get the most frequent element in a list**: ```mode(mylist)```"
   ],
   "metadata": {
    "id": "1t3aWEJFit7B"
   }
  },
  {
   "cell_type": "markdown",
   "source": [
    "### Implement Distance Function\n",
    "\n",
    "The euclidean distance function allows to determine the distance between two points."
   ],
   "metadata": {
    "id": "ZHBRIc74Sfe9"
   }
  },
  {
   "cell_type": "code",
   "source": [
    "def euclidean_distance(point1, point2):\n",
    "  # go through the features of point1 and 2\n",
    "  current_sum = 0\n",
    "  for i in range(0, len(point1)):\n",
    "    # calculate their squared difference and sum it\n",
    "    current_sum += (point1[i]-point2[i])**2\n",
    "\n",
    "  # calculate the square root from the summed distances\n",
    "  distance = np.sqrt(current_sum)\n",
    "\n",
    "  return distance"
   ],
   "metadata": {
    "id": "_jtyTSf6SbwQ",
    "ExecuteTime": {
     "end_time": "2024-09-02T11:51:21.448247Z",
     "start_time": "2024-09-02T11:51:21.442293Z"
    }
   },
   "outputs": [],
   "execution_count": 27
  },
  {
   "metadata": {
    "ExecuteTime": {
     "end_time": "2024-09-02T12:05:32.673124Z",
     "start_time": "2024-09-02T12:05:32.664486Z"
    }
   },
   "cell_type": "code",
   "source": "X_train_processed",
   "outputs": [
    {
     "data": {
      "text/plain": [
       "array([[-1.23180891,  0.71790947,  1.46920496, ...,  1.        ,\n",
       "         0.        ,  0.        ],\n",
       "       [-0.72654865, -0.71238406, -0.17548165, ...,  1.        ,\n",
       "         0.        ,  0.        ],\n",
       "       [-0.22128838,  0.00276271, -0.17548165, ...,  1.        ,\n",
       "         0.        ,  0.        ],\n",
       "       ...,\n",
       "       [ 0.6881801 , -1.42753082, -1.27193938, ...,  0.        ,\n",
       "         0.        ,  1.        ],\n",
       "       [-0.22128838,  0.00276271,  1.46920496, ...,  0.        ,\n",
       "         0.        ,  1.        ],\n",
       "       [-0.72654865,  0.00276271,  1.46920496, ...,  0.        ,\n",
       "         0.        ,  1.        ]])"
      ]
     },
     "execution_count": 31,
     "metadata": {},
     "output_type": "execute_result"
    }
   ],
   "execution_count": 31
  },
  {
   "metadata": {
    "ExecuteTime": {
     "end_time": "2024-09-02T12:10:23.325716Z",
     "start_time": "2024-09-02T12:10:23.302709Z"
    }
   },
   "cell_type": "code",
   "source": "y",
   "outputs": [
    {
     "data": {
      "text/plain": [
       "0       rail\n",
       "1       rail\n",
       "2       rail\n",
       "3       rail\n",
       "4       rail\n",
       "        ... \n",
       "2261    rail\n",
       "2262    rail\n",
       "2263     car\n",
       "2264    rail\n",
       "2265    rail\n",
       "Name: choice, Length: 2266, dtype: object"
      ]
     },
     "execution_count": 32,
     "metadata": {},
     "output_type": "execute_result"
    }
   ],
   "execution_count": 32
  },
  {
   "cell_type": "markdown",
   "source": [
    "### Code of your own KNN classifier:"
   ],
   "metadata": {
    "id": "-9Mt8yEksSYa"
   }
  },
  {
   "metadata": {},
   "cell_type": "code",
   "outputs": [],
   "execution_count": null,
   "source": "import math"
  },
  {
   "cell_type": "code",
   "source": [
    "def custom_knn(X_train, y_train, X_unclassified, k):\n",
    "    \n",
    "    def classifyAPoint(points,p,k=3):\n",
    "\n",
    "        distance=[]\n",
    "        for group in points:\n",
    "            for feature in points[group]:\n",
    "    \n",
    "                #calculate the euclidean distance of p from training points \n",
    "                euclidean_distance = math.sqrt((feature[0]-p[0])**2 +(feature[1]-p[1])**2)\n",
    "    \n",
    "                # Add a tuple of form (distance,group) in the distance list\n",
    "                distance.append((euclidean_distance,group))\n",
    "    \n",
    "        # sort the distance list in ascending order\n",
    "        # and select first k distances\n",
    "        distance = sorted(distance)[:k]\n",
    "    \n",
    "        freq1 = 0 #frequency of group 0\n",
    "        freq2 = 0 #frequency og group 1\n",
    "    \n",
    "        for d in distance:\n",
    "            if d[1] == 0:\n",
    "                freq1 += 1\n",
    "            elif d[1] == 1:\n",
    "                freq2 += 1\n",
    "    \n",
    "        return 0 if freq1>freq2 else 1\n",
    "    \n",
    "    #points = \n",
    "\n",
    "    # testing point p(x,y)\n",
    "    p = (2.5,7)\n",
    "\n",
    "    # Number of neighbours \n",
    "    k = 3\n",
    "\n",
    "    # change that to the actual classification\n",
    "    classification = None\n",
    "    return classification"
   ],
   "metadata": {
    "id": "o2Kks1rmiv0K"
   },
   "outputs": [],
   "execution_count": null
  },
  {
   "cell_type": "markdown",
   "source": [
    "### Make a prediction"
   ],
   "metadata": {
    "id": "sB-U4w9Zq35d"
   }
  },
  {
   "cell_type": "code",
   "source": [
    "custom_knn(X_train_processed, y_train, X_test_processed[0], 5)"
   ],
   "metadata": {
    "id": "hrQD7LTIbTSX"
   },
   "outputs": [],
   "execution_count": null
  },
  {
   "cell_type": "markdown",
   "source": [
    "### Compare with the true class"
   ],
   "metadata": {
    "id": "TWecmtnKw2V2"
   }
  },
  {
   "cell_type": "code",
   "source": [
    "y_test.iloc[0]"
   ],
   "metadata": {
    "id": "J5wEborXc7vd"
   },
   "outputs": [],
   "execution_count": null
  },
  {
   "cell_type": "markdown",
   "source": [
    "## Task 2: Understand Classification Evaluation Metrics\n",
    "\n",
    "TP: True Positives\\\n",
    "FP: False Positives\\\n",
    "TN: True Negatives\\\n",
    "FN: False Negatives\n",
    "\n",
    "\n",
    " - **Accuracy**: The ratio of correctly predicted instances to the total instances.\n",
    "   - Formula: `Accuracy = (TP + TN) / (TP + TN + FP + FN)`\n",
    "\n",
    " - **Precision**: The ratio of correctly predicted positive observations to the total predicted positives.\n",
    "   - Formula: `Precision = TP / (TP + FP)`\n",
    "\n",
    " - **Recall (Sensitivity/True Positive Rate)**: The ratio of correctly predicted positive observations to all observations in the actual class.\n",
    "   - Formula: `Recall = TP / (TP + FN)`\n",
    "\n",
    " - **F1-Score**: The harmonic mean of precision and recall.\n",
    "   - Formula: `F1-Score = 2 * (Precision * Recall) / (Precision + Recall)`\n",
    "\n",
    "Let's calculate these metrics using an example scenario.\n",
    "\n",
    "**Scenario:**\n",
    "- Imagine you are building a model to predict mode choice with a dataset where only 1% of the observations used the mode car (i.e., imbalanced data).\n",
    "- Assume you have 10,000 observations, where 100 are mode car (positive class) and 9,900 are mode rail (negative class).\n",
    "\n",
    "### Task 2.1: Initial Model Evaluation\n",
    "Consider a model that predicts all transactions as rail (negative class).\n",
    "\n",
    "- a) Calculate the following metrics: Accuracy, Precision, Recall, F1-Score\n",
    "- b) What can you observe? Are all measures equally suitable for this task?\n"
   ],
   "metadata": {
    "id": "nQYuQ4zax4KE"
   }
  },
  {
   "metadata": {},
   "cell_type": "markdown",
   "source": [
    "            True        False\n",
    "True Rail: 9,900\\ Rail: 10,000\n",
    "True Car: 100\\      Car: 0"
   ]
  },
  {
   "metadata": {
    "ExecuteTime": {
     "end_time": "2024-09-02T12:45:20.734127Z",
     "start_time": "2024-09-02T12:45:20.728074Z"
    }
   },
   "cell_type": "code",
   "source": [
    "TP = 0 #Queremos predecir Car pero el modelo siempre predice Rail\n",
    "TN = 9900 #El modelo siempre predice bien Rail, todas las veces\n",
    "FP = 0 #No hay manera que se prediga Car, ni siquiera por error \n",
    "FN = 100 #En qué ocasiones se predijirá Rail cuando es Car"
   ],
   "outputs": [],
   "execution_count": 34
  },
  {
   "metadata": {
    "ExecuteTime": {
     "end_time": "2024-09-02T12:45:21.465956Z",
     "start_time": "2024-09-02T12:45:21.441805Z"
    }
   },
   "cell_type": "code",
   "source": [
    "Accuracy = (TP + TN) / (TP + TN + FP + FN)\n",
    "Precision = TP / (TP + FP)\n",
    "Recall = TP / (TP + FN)\n",
    "F1_Score = 2 * (Precision * Recall) / (Precision + Recall)"
   ],
   "outputs": [
    {
     "ename": "ZeroDivisionError",
     "evalue": "division by zero",
     "output_type": "error",
     "traceback": [
      "\u001B[1;31m---------------------------------------------------------------------------\u001B[0m",
      "\u001B[1;31mZeroDivisionError\u001B[0m                         Traceback (most recent call last)",
      "Cell \u001B[1;32mIn[35], line 2\u001B[0m\n\u001B[0;32m      1\u001B[0m Accuracy \u001B[38;5;241m=\u001B[39m (TP \u001B[38;5;241m+\u001B[39m TN) \u001B[38;5;241m/\u001B[39m (TP \u001B[38;5;241m+\u001B[39m TN \u001B[38;5;241m+\u001B[39m FP \u001B[38;5;241m+\u001B[39m FN)\n\u001B[1;32m----> 2\u001B[0m Precision \u001B[38;5;241m=\u001B[39m \u001B[43mTP\u001B[49m\u001B[43m \u001B[49m\u001B[38;5;241;43m/\u001B[39;49m\u001B[43m \u001B[49m\u001B[43m(\u001B[49m\u001B[43mTP\u001B[49m\u001B[43m \u001B[49m\u001B[38;5;241;43m+\u001B[39;49m\u001B[43m \u001B[49m\u001B[43mFP\u001B[49m\u001B[43m)\u001B[49m\n\u001B[0;32m      3\u001B[0m Recall \u001B[38;5;241m=\u001B[39m TP \u001B[38;5;241m/\u001B[39m (TP \u001B[38;5;241m+\u001B[39m FN)\n\u001B[0;32m      4\u001B[0m F1_Score \u001B[38;5;241m=\u001B[39m \u001B[38;5;241m2\u001B[39m \u001B[38;5;241m*\u001B[39m (Precision \u001B[38;5;241m*\u001B[39m Recall) \u001B[38;5;241m/\u001B[39m (Precision \u001B[38;5;241m+\u001B[39m Recall)\n",
      "\u001B[1;31mZeroDivisionError\u001B[0m: division by zero"
     ]
    }
   ],
   "execution_count": 35
  },
  {
   "metadata": {},
   "cell_type": "markdown",
   "source": ""
  },
  {
   "cell_type": "markdown",
   "source": [
    "## Task 3: ROC Curve\n",
    "\n",
    "In this task the goal is to understand the ROC curve and how it can be used to identify the optimal threshold for a classification task with logistic regression."
   ],
   "metadata": {
    "id": "j9Sf1E0kIFSJ"
   }
  },
  {
   "cell_type": "markdown",
   "source": [
    "### Fit Logistic Regression Model\n",
    "First we are fitting a logistic regression model. The model internally predicts a probability, e.g., for the mode choice being car in our example.\n",
    "\n",
    "It is important to find the optimal threshold where we \"trust\" the model.\n",
    "\n",
    "Is 50% probability enough that we assign the label \"car\" to an observation? Or is maybe a threshold of 70% necessary to get a good result?"
   ],
   "metadata": {
    "id": "KPqtk0IsLMNC"
   }
  },
  {
   "cell_type": "code",
   "source": [
    "from sklearn.model_selection import train_test_split\n",
    "from sklearn.linear_model import LogisticRegression\n",
    "\n",
    "y_train = y_train.map({'car': 1, 'rail': 0})\n",
    "y_test = y_test.map({'car': 1, 'rail': 0})\n",
    "\n",
    "# Train a logistic regression model\n",
    "model = LogisticRegression()\n",
    "model.fit(X_train_processed, y_train)"
   ],
   "metadata": {
    "id": "Wg1Vj_1MLIEe",
    "colab": {
     "base_uri": "https://localhost:8080/",
     "height": 75
    },
    "outputId": "fc6aecea-996a-4281-8c70-ccfb782d35de",
    "ExecuteTime": {
     "end_time": "2024-09-02T12:50:06.793470Z",
     "start_time": "2024-09-02T12:50:06.119712Z"
    }
   },
   "outputs": [
    {
     "data": {
      "text/plain": [
       "LogisticRegression()"
      ],
      "text/html": [
       "<style>#sk-container-id-1 {\n",
       "  /* Definition of color scheme common for light and dark mode */\n",
       "  --sklearn-color-text: black;\n",
       "  --sklearn-color-line: gray;\n",
       "  /* Definition of color scheme for unfitted estimators */\n",
       "  --sklearn-color-unfitted-level-0: #fff5e6;\n",
       "  --sklearn-color-unfitted-level-1: #f6e4d2;\n",
       "  --sklearn-color-unfitted-level-2: #ffe0b3;\n",
       "  --sklearn-color-unfitted-level-3: chocolate;\n",
       "  /* Definition of color scheme for fitted estimators */\n",
       "  --sklearn-color-fitted-level-0: #f0f8ff;\n",
       "  --sklearn-color-fitted-level-1: #d4ebff;\n",
       "  --sklearn-color-fitted-level-2: #b3dbfd;\n",
       "  --sklearn-color-fitted-level-3: cornflowerblue;\n",
       "\n",
       "  /* Specific color for light theme */\n",
       "  --sklearn-color-text-on-default-background: var(--sg-text-color, var(--theme-code-foreground, var(--jp-content-font-color1, black)));\n",
       "  --sklearn-color-background: var(--sg-background-color, var(--theme-background, var(--jp-layout-color0, white)));\n",
       "  --sklearn-color-border-box: var(--sg-text-color, var(--theme-code-foreground, var(--jp-content-font-color1, black)));\n",
       "  --sklearn-color-icon: #696969;\n",
       "\n",
       "  @media (prefers-color-scheme: dark) {\n",
       "    /* Redefinition of color scheme for dark theme */\n",
       "    --sklearn-color-text-on-default-background: var(--sg-text-color, var(--theme-code-foreground, var(--jp-content-font-color1, white)));\n",
       "    --sklearn-color-background: var(--sg-background-color, var(--theme-background, var(--jp-layout-color0, #111)));\n",
       "    --sklearn-color-border-box: var(--sg-text-color, var(--theme-code-foreground, var(--jp-content-font-color1, white)));\n",
       "    --sklearn-color-icon: #878787;\n",
       "  }\n",
       "}\n",
       "\n",
       "#sk-container-id-1 {\n",
       "  color: var(--sklearn-color-text);\n",
       "}\n",
       "\n",
       "#sk-container-id-1 pre {\n",
       "  padding: 0;\n",
       "}\n",
       "\n",
       "#sk-container-id-1 input.sk-hidden--visually {\n",
       "  border: 0;\n",
       "  clip: rect(1px 1px 1px 1px);\n",
       "  clip: rect(1px, 1px, 1px, 1px);\n",
       "  height: 1px;\n",
       "  margin: -1px;\n",
       "  overflow: hidden;\n",
       "  padding: 0;\n",
       "  position: absolute;\n",
       "  width: 1px;\n",
       "}\n",
       "\n",
       "#sk-container-id-1 div.sk-dashed-wrapped {\n",
       "  border: 1px dashed var(--sklearn-color-line);\n",
       "  margin: 0 0.4em 0.5em 0.4em;\n",
       "  box-sizing: border-box;\n",
       "  padding-bottom: 0.4em;\n",
       "  background-color: var(--sklearn-color-background);\n",
       "}\n",
       "\n",
       "#sk-container-id-1 div.sk-container {\n",
       "  /* jupyter's `normalize.less` sets `[hidden] { display: none; }`\n",
       "     but bootstrap.min.css set `[hidden] { display: none !important; }`\n",
       "     so we also need the `!important` here to be able to override the\n",
       "     default hidden behavior on the sphinx rendered scikit-learn.org.\n",
       "     See: https://github.com/scikit-learn/scikit-learn/issues/21755 */\n",
       "  display: inline-block !important;\n",
       "  position: relative;\n",
       "}\n",
       "\n",
       "#sk-container-id-1 div.sk-text-repr-fallback {\n",
       "  display: none;\n",
       "}\n",
       "\n",
       "div.sk-parallel-item,\n",
       "div.sk-serial,\n",
       "div.sk-item {\n",
       "  /* draw centered vertical line to link estimators */\n",
       "  background-image: linear-gradient(var(--sklearn-color-text-on-default-background), var(--sklearn-color-text-on-default-background));\n",
       "  background-size: 2px 100%;\n",
       "  background-repeat: no-repeat;\n",
       "  background-position: center center;\n",
       "}\n",
       "\n",
       "/* Parallel-specific style estimator block */\n",
       "\n",
       "#sk-container-id-1 div.sk-parallel-item::after {\n",
       "  content: \"\";\n",
       "  width: 100%;\n",
       "  border-bottom: 2px solid var(--sklearn-color-text-on-default-background);\n",
       "  flex-grow: 1;\n",
       "}\n",
       "\n",
       "#sk-container-id-1 div.sk-parallel {\n",
       "  display: flex;\n",
       "  align-items: stretch;\n",
       "  justify-content: center;\n",
       "  background-color: var(--sklearn-color-background);\n",
       "  position: relative;\n",
       "}\n",
       "\n",
       "#sk-container-id-1 div.sk-parallel-item {\n",
       "  display: flex;\n",
       "  flex-direction: column;\n",
       "}\n",
       "\n",
       "#sk-container-id-1 div.sk-parallel-item:first-child::after {\n",
       "  align-self: flex-end;\n",
       "  width: 50%;\n",
       "}\n",
       "\n",
       "#sk-container-id-1 div.sk-parallel-item:last-child::after {\n",
       "  align-self: flex-start;\n",
       "  width: 50%;\n",
       "}\n",
       "\n",
       "#sk-container-id-1 div.sk-parallel-item:only-child::after {\n",
       "  width: 0;\n",
       "}\n",
       "\n",
       "/* Serial-specific style estimator block */\n",
       "\n",
       "#sk-container-id-1 div.sk-serial {\n",
       "  display: flex;\n",
       "  flex-direction: column;\n",
       "  align-items: center;\n",
       "  background-color: var(--sklearn-color-background);\n",
       "  padding-right: 1em;\n",
       "  padding-left: 1em;\n",
       "}\n",
       "\n",
       "\n",
       "/* Toggleable style: style used for estimator/Pipeline/ColumnTransformer box that is\n",
       "clickable and can be expanded/collapsed.\n",
       "- Pipeline and ColumnTransformer use this feature and define the default style\n",
       "- Estimators will overwrite some part of the style using the `sk-estimator` class\n",
       "*/\n",
       "\n",
       "/* Pipeline and ColumnTransformer style (default) */\n",
       "\n",
       "#sk-container-id-1 div.sk-toggleable {\n",
       "  /* Default theme specific background. It is overwritten whether we have a\n",
       "  specific estimator or a Pipeline/ColumnTransformer */\n",
       "  background-color: var(--sklearn-color-background);\n",
       "}\n",
       "\n",
       "/* Toggleable label */\n",
       "#sk-container-id-1 label.sk-toggleable__label {\n",
       "  cursor: pointer;\n",
       "  display: block;\n",
       "  width: 100%;\n",
       "  margin-bottom: 0;\n",
       "  padding: 0.5em;\n",
       "  box-sizing: border-box;\n",
       "  text-align: center;\n",
       "}\n",
       "\n",
       "#sk-container-id-1 label.sk-toggleable__label-arrow:before {\n",
       "  /* Arrow on the left of the label */\n",
       "  content: \"▸\";\n",
       "  float: left;\n",
       "  margin-right: 0.25em;\n",
       "  color: var(--sklearn-color-icon);\n",
       "}\n",
       "\n",
       "#sk-container-id-1 label.sk-toggleable__label-arrow:hover:before {\n",
       "  color: var(--sklearn-color-text);\n",
       "}\n",
       "\n",
       "/* Toggleable content - dropdown */\n",
       "\n",
       "#sk-container-id-1 div.sk-toggleable__content {\n",
       "  max-height: 0;\n",
       "  max-width: 0;\n",
       "  overflow: hidden;\n",
       "  text-align: left;\n",
       "  /* unfitted */\n",
       "  background-color: var(--sklearn-color-unfitted-level-0);\n",
       "}\n",
       "\n",
       "#sk-container-id-1 div.sk-toggleable__content.fitted {\n",
       "  /* fitted */\n",
       "  background-color: var(--sklearn-color-fitted-level-0);\n",
       "}\n",
       "\n",
       "#sk-container-id-1 div.sk-toggleable__content pre {\n",
       "  margin: 0.2em;\n",
       "  border-radius: 0.25em;\n",
       "  color: var(--sklearn-color-text);\n",
       "  /* unfitted */\n",
       "  background-color: var(--sklearn-color-unfitted-level-0);\n",
       "}\n",
       "\n",
       "#sk-container-id-1 div.sk-toggleable__content.fitted pre {\n",
       "  /* unfitted */\n",
       "  background-color: var(--sklearn-color-fitted-level-0);\n",
       "}\n",
       "\n",
       "#sk-container-id-1 input.sk-toggleable__control:checked~div.sk-toggleable__content {\n",
       "  /* Expand drop-down */\n",
       "  max-height: 200px;\n",
       "  max-width: 100%;\n",
       "  overflow: auto;\n",
       "}\n",
       "\n",
       "#sk-container-id-1 input.sk-toggleable__control:checked~label.sk-toggleable__label-arrow:before {\n",
       "  content: \"▾\";\n",
       "}\n",
       "\n",
       "/* Pipeline/ColumnTransformer-specific style */\n",
       "\n",
       "#sk-container-id-1 div.sk-label input.sk-toggleable__control:checked~label.sk-toggleable__label {\n",
       "  color: var(--sklearn-color-text);\n",
       "  background-color: var(--sklearn-color-unfitted-level-2);\n",
       "}\n",
       "\n",
       "#sk-container-id-1 div.sk-label.fitted input.sk-toggleable__control:checked~label.sk-toggleable__label {\n",
       "  background-color: var(--sklearn-color-fitted-level-2);\n",
       "}\n",
       "\n",
       "/* Estimator-specific style */\n",
       "\n",
       "/* Colorize estimator box */\n",
       "#sk-container-id-1 div.sk-estimator input.sk-toggleable__control:checked~label.sk-toggleable__label {\n",
       "  /* unfitted */\n",
       "  background-color: var(--sklearn-color-unfitted-level-2);\n",
       "}\n",
       "\n",
       "#sk-container-id-1 div.sk-estimator.fitted input.sk-toggleable__control:checked~label.sk-toggleable__label {\n",
       "  /* fitted */\n",
       "  background-color: var(--sklearn-color-fitted-level-2);\n",
       "}\n",
       "\n",
       "#sk-container-id-1 div.sk-label label.sk-toggleable__label,\n",
       "#sk-container-id-1 div.sk-label label {\n",
       "  /* The background is the default theme color */\n",
       "  color: var(--sklearn-color-text-on-default-background);\n",
       "}\n",
       "\n",
       "/* On hover, darken the color of the background */\n",
       "#sk-container-id-1 div.sk-label:hover label.sk-toggleable__label {\n",
       "  color: var(--sklearn-color-text);\n",
       "  background-color: var(--sklearn-color-unfitted-level-2);\n",
       "}\n",
       "\n",
       "/* Label box, darken color on hover, fitted */\n",
       "#sk-container-id-1 div.sk-label.fitted:hover label.sk-toggleable__label.fitted {\n",
       "  color: var(--sklearn-color-text);\n",
       "  background-color: var(--sklearn-color-fitted-level-2);\n",
       "}\n",
       "\n",
       "/* Estimator label */\n",
       "\n",
       "#sk-container-id-1 div.sk-label label {\n",
       "  font-family: monospace;\n",
       "  font-weight: bold;\n",
       "  display: inline-block;\n",
       "  line-height: 1.2em;\n",
       "}\n",
       "\n",
       "#sk-container-id-1 div.sk-label-container {\n",
       "  text-align: center;\n",
       "}\n",
       "\n",
       "/* Estimator-specific */\n",
       "#sk-container-id-1 div.sk-estimator {\n",
       "  font-family: monospace;\n",
       "  border: 1px dotted var(--sklearn-color-border-box);\n",
       "  border-radius: 0.25em;\n",
       "  box-sizing: border-box;\n",
       "  margin-bottom: 0.5em;\n",
       "  /* unfitted */\n",
       "  background-color: var(--sklearn-color-unfitted-level-0);\n",
       "}\n",
       "\n",
       "#sk-container-id-1 div.sk-estimator.fitted {\n",
       "  /* fitted */\n",
       "  background-color: var(--sklearn-color-fitted-level-0);\n",
       "}\n",
       "\n",
       "/* on hover */\n",
       "#sk-container-id-1 div.sk-estimator:hover {\n",
       "  /* unfitted */\n",
       "  background-color: var(--sklearn-color-unfitted-level-2);\n",
       "}\n",
       "\n",
       "#sk-container-id-1 div.sk-estimator.fitted:hover {\n",
       "  /* fitted */\n",
       "  background-color: var(--sklearn-color-fitted-level-2);\n",
       "}\n",
       "\n",
       "/* Specification for estimator info (e.g. \"i\" and \"?\") */\n",
       "\n",
       "/* Common style for \"i\" and \"?\" */\n",
       "\n",
       ".sk-estimator-doc-link,\n",
       "a:link.sk-estimator-doc-link,\n",
       "a:visited.sk-estimator-doc-link {\n",
       "  float: right;\n",
       "  font-size: smaller;\n",
       "  line-height: 1em;\n",
       "  font-family: monospace;\n",
       "  background-color: var(--sklearn-color-background);\n",
       "  border-radius: 1em;\n",
       "  height: 1em;\n",
       "  width: 1em;\n",
       "  text-decoration: none !important;\n",
       "  margin-left: 1ex;\n",
       "  /* unfitted */\n",
       "  border: var(--sklearn-color-unfitted-level-1) 1pt solid;\n",
       "  color: var(--sklearn-color-unfitted-level-1);\n",
       "}\n",
       "\n",
       ".sk-estimator-doc-link.fitted,\n",
       "a:link.sk-estimator-doc-link.fitted,\n",
       "a:visited.sk-estimator-doc-link.fitted {\n",
       "  /* fitted */\n",
       "  border: var(--sklearn-color-fitted-level-1) 1pt solid;\n",
       "  color: var(--sklearn-color-fitted-level-1);\n",
       "}\n",
       "\n",
       "/* On hover */\n",
       "div.sk-estimator:hover .sk-estimator-doc-link:hover,\n",
       ".sk-estimator-doc-link:hover,\n",
       "div.sk-label-container:hover .sk-estimator-doc-link:hover,\n",
       ".sk-estimator-doc-link:hover {\n",
       "  /* unfitted */\n",
       "  background-color: var(--sklearn-color-unfitted-level-3);\n",
       "  color: var(--sklearn-color-background);\n",
       "  text-decoration: none;\n",
       "}\n",
       "\n",
       "div.sk-estimator.fitted:hover .sk-estimator-doc-link.fitted:hover,\n",
       ".sk-estimator-doc-link.fitted:hover,\n",
       "div.sk-label-container:hover .sk-estimator-doc-link.fitted:hover,\n",
       ".sk-estimator-doc-link.fitted:hover {\n",
       "  /* fitted */\n",
       "  background-color: var(--sklearn-color-fitted-level-3);\n",
       "  color: var(--sklearn-color-background);\n",
       "  text-decoration: none;\n",
       "}\n",
       "\n",
       "/* Span, style for the box shown on hovering the info icon */\n",
       ".sk-estimator-doc-link span {\n",
       "  display: none;\n",
       "  z-index: 9999;\n",
       "  position: relative;\n",
       "  font-weight: normal;\n",
       "  right: .2ex;\n",
       "  padding: .5ex;\n",
       "  margin: .5ex;\n",
       "  width: min-content;\n",
       "  min-width: 20ex;\n",
       "  max-width: 50ex;\n",
       "  color: var(--sklearn-color-text);\n",
       "  box-shadow: 2pt 2pt 4pt #999;\n",
       "  /* unfitted */\n",
       "  background: var(--sklearn-color-unfitted-level-0);\n",
       "  border: .5pt solid var(--sklearn-color-unfitted-level-3);\n",
       "}\n",
       "\n",
       ".sk-estimator-doc-link.fitted span {\n",
       "  /* fitted */\n",
       "  background: var(--sklearn-color-fitted-level-0);\n",
       "  border: var(--sklearn-color-fitted-level-3);\n",
       "}\n",
       "\n",
       ".sk-estimator-doc-link:hover span {\n",
       "  display: block;\n",
       "}\n",
       "\n",
       "/* \"?\"-specific style due to the `<a>` HTML tag */\n",
       "\n",
       "#sk-container-id-1 a.estimator_doc_link {\n",
       "  float: right;\n",
       "  font-size: 1rem;\n",
       "  line-height: 1em;\n",
       "  font-family: monospace;\n",
       "  background-color: var(--sklearn-color-background);\n",
       "  border-radius: 1rem;\n",
       "  height: 1rem;\n",
       "  width: 1rem;\n",
       "  text-decoration: none;\n",
       "  /* unfitted */\n",
       "  color: var(--sklearn-color-unfitted-level-1);\n",
       "  border: var(--sklearn-color-unfitted-level-1) 1pt solid;\n",
       "}\n",
       "\n",
       "#sk-container-id-1 a.estimator_doc_link.fitted {\n",
       "  /* fitted */\n",
       "  border: var(--sklearn-color-fitted-level-1) 1pt solid;\n",
       "  color: var(--sklearn-color-fitted-level-1);\n",
       "}\n",
       "\n",
       "/* On hover */\n",
       "#sk-container-id-1 a.estimator_doc_link:hover {\n",
       "  /* unfitted */\n",
       "  background-color: var(--sklearn-color-unfitted-level-3);\n",
       "  color: var(--sklearn-color-background);\n",
       "  text-decoration: none;\n",
       "}\n",
       "\n",
       "#sk-container-id-1 a.estimator_doc_link.fitted:hover {\n",
       "  /* fitted */\n",
       "  background-color: var(--sklearn-color-fitted-level-3);\n",
       "}\n",
       "</style><div id=\"sk-container-id-1\" class=\"sk-top-container\"><div class=\"sk-text-repr-fallback\"><pre>LogisticRegression()</pre><b>In a Jupyter environment, please rerun this cell to show the HTML representation or trust the notebook. <br />On GitHub, the HTML representation is unable to render, please try loading this page with nbviewer.org.</b></div><div class=\"sk-container\" hidden><div class=\"sk-item\"><div class=\"sk-estimator fitted sk-toggleable\"><input class=\"sk-toggleable__control sk-hidden--visually\" id=\"sk-estimator-id-1\" type=\"checkbox\" checked><label for=\"sk-estimator-id-1\" class=\"sk-toggleable__label fitted sk-toggleable__label-arrow fitted\">&nbsp;&nbsp;LogisticRegression<a class=\"sk-estimator-doc-link fitted\" rel=\"noreferrer\" target=\"_blank\" href=\"https://scikit-learn.org/1.5/modules/generated/sklearn.linear_model.LogisticRegression.html\">?<span>Documentation for LogisticRegression</span></a><span class=\"sk-estimator-doc-link fitted\">i<span>Fitted</span></span></label><div class=\"sk-toggleable__content fitted\"><pre>LogisticRegression()</pre></div> </div></div></div></div>"
      ]
     },
     "execution_count": 36,
     "metadata": {},
     "output_type": "execute_result"
    }
   ],
   "execution_count": 36
  },
  {
   "cell_type": "markdown",
   "source": [
    "### Task 3.1: Interpret the ROC Curve\n",
    "\n",
    "One way to find the optimal parameter set for such a model in a binary classification setting is the Receiver Operating Characteristic (ROC) curve (see below).\n",
    "\n",
    "Now try to interprete with the lecture slides what this curve means and what information we can derive from it.\n",
    "\n",
    "- a) How would the optimal ROC curve look like?\n",
    "- b) How does the ROC curve supports us in finding the optimal threshold parameter?\n",
    "- c) Find the approximate FPR and TPR of the optimal threshold given the ROC curve below."
   ],
   "metadata": {
    "id": "n1fXI2MJRBi2"
   }
  },
  {
   "cell_type": "code",
   "source": [
    "import matplotlib.pyplot as plt\n",
    "from sklearn.metrics import roc_curve, roc_auc_score\n",
    "\n",
    "# Predict probabilities for the test set\n",
    "y_probs = model.predict_proba(X_test_processed)[:, 1]\n",
    "\n",
    "# ## Part 2: Plotting the ROC Curve\n",
    "fpr, tpr, thresholds = roc_curve(y_test, y_probs)\n",
    "roc_auc = roc_auc_score(y_test, y_probs)\n",
    "\n",
    "plt.figure(figsize=(10, 6))\n",
    "plt.plot(fpr, tpr, label=f'Logistic Regression (AUC = {roc_auc:.2f})')\n",
    "plt.plot([0, 1], [0, 1], 'k--', label='Random Guess')\n",
    "plt.xlabel('False Positive Rate (FPR)')\n",
    "plt.ylabel('True Positive Rate (TPR)')\n",
    "plt.title('ROC Curve')\n",
    "plt.legend(loc='lower right')\n",
    "plt.show()"
   ],
   "metadata": {
    "colab": {
     "base_uri": "https://localhost:8080/",
     "height": 564
    },
    "id": "uRRqB8Z8w7IV",
    "outputId": "87278dd2-314d-4a90-e83d-ce764bcbf96e",
    "ExecuteTime": {
     "end_time": "2024-09-02T12:50:09.619094Z",
     "start_time": "2024-09-02T12:50:09.336354Z"
    }
   },
   "outputs": [
    {
     "data": {
      "text/plain": [
       "<Figure size 1000x600 with 1 Axes>"
      ],
      "image/png": "[encoded data removed]"
     },
     "metadata": {},
     "output_type": "display_data"
    }
   ],
   "execution_count": 37
  },
  {
   "cell_type": "markdown",
   "source": [
    "### Determine the best threshold parameter"
   ],
   "metadata": {
    "id": "lo76CbUtpDxV"
   }
  },
  {
   "cell_type": "code",
   "source": [
    "# calculate the distance to the top-left corner (0, 1) for each threshold\n",
    "distances = np.sqrt((1 - tpr) ** 2 + fpr ** 2)\n",
    "\n",
    "# find the index of the smallest distance\n",
    "optimal_index = np.argmin(distances)\n",
    "\n",
    "# get the optimal threshold\n",
    "optimal_threshold = thresholds[optimal_index]\n",
    "optimal_threshold"
   ],
   "metadata": {
    "colab": {
     "base_uri": "https://localhost:8080/"
    },
    "id": "Iqim_P7cVYkh",
    "outputId": "5ac187cf-8d87-44fc-e476-8ddaa73a6f6f"
   },
   "outputs": [],
   "execution_count": null
  },
  {
   "cell_type": "markdown",
   "source": [
    "### Find the TPR, FPR of this threshold"
   ],
   "metadata": {
    "id": "CqHqAc8spWYP"
   }
  },
  {
   "cell_type": "code",
   "source": [
    "# print(fpr[optimal_index])\n",
    "# print(tpr[optimal_index])"
   ],
   "metadata": {
    "id": "MZNLrXNCpVQA"
   },
   "outputs": [],
   "execution_count": null
  }
 ]
}
