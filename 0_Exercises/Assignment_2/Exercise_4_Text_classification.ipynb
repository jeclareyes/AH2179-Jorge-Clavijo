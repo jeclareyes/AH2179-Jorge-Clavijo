{
 "cells": [
  {
   "cell_type": "markdown",
   "metadata": {
    "id": "YkcamE0EJJqx"
   },
   "source": [
    "# Preparing basic knowledge for Classification\n",
    "\n",
    "The code below is using the Python programming language with the Pandas and Scikit-learn libraries to create a word matrix from a list of strings."
   ]
  },
  {
   "cell_type": "code",
   "metadata": {
    "colab": {
     "base_uri": "https://localhost:8080/",
     "height": 174
    },
    "id": "k9RYH5vPJCil",
    "outputId": "722a3e5f-d879-46a6-b7b2-b6ee1752509a",
    "ExecuteTime": {
     "end_time": "2024-09-09T17:40:24.888147Z",
     "start_time": "2024-09-09T17:40:16.807885Z"
    }
   },
   "source": [
    "import pandas as pd\n",
    "from sklearn.feature_extraction.text import CountVectorizer\n",
    "\n",
    "# Define the text\n",
    "lines = [\n",
    "    'Four score and 7 years ago our fathers brought forth,',\n",
    "    '... a new NATION, conceived in liberty $$$,',\n",
    "    'and dedicated to the PrOpOsItIoN that all men are created equal',\n",
    "    'One nation\\'s freedom equals #freedom for another $nation!'\n",
    "]\n",
    "\n",
    "# Creat the CountVectorizer instance, the stop_words parameter is set to \"english\" to remove common English stop words like \"and\", \"the\", and \"a\"\n",
    "vectorizer = CountVectorizer(stop_words='english')\n",
    "\n",
    "# Convert the text to vectorizer\n",
    "word_matrix = vectorizer.fit_transform(lines)\n",
    "\n",
    "# The get_feature_names_out method is used to get the feature names (i.e., the individual words) in the word matrix\n",
    "feature_names = vectorizer.get_feature_names_out()\n",
    "\n",
    "# The line_names list is created to store the names of each line in the original list of strings\n",
    "line_names = [f'Line {(i + 1):d}' for i, _ in enumerate(word_matrix)]\n",
    "\n",
    "# A Pandas DataFrame is created using the word_matrix.toarray() method to convert the sparse matrix to a dense array\n",
    "df = pd.DataFrame(data=word_matrix.toarray(), index=line_names,columns=feature_names)\n",
    "\n",
    "# The head() method is called on the resulting DataFrame to display the first few rows of the matrix\n",
    "df.head()"
   ],
   "outputs": [
    {
     "data": {
      "text/plain": [
       "        ago  brought  conceived  created  dedicated  equal  equals  fathers  \\\n",
       "Line 1    1        1          0        0          0      0       0        1   \n",
       "Line 2    0        0          1        0          0      0       0        0   \n",
       "Line 3    0        0          0        1          1      1       0        0   \n",
       "Line 4    0        0          0        0          0      0       1        0   \n",
       "\n",
       "        forth  freedom  liberty  men  nation  new  proposition  score  years  \n",
       "Line 1      1        0        0    0       0    0            0      1      1  \n",
       "Line 2      0        0        1    0       1    1            0      0      0  \n",
       "Line 3      0        0        0    1       0    0            1      0      0  \n",
       "Line 4      0        2        0    0       2    0            0      0      0  "
      ],
      "text/html": [
       "<div>\n",
       "<style scoped>\n",
       "    .dataframe tbody tr th:only-of-type {\n",
       "        vertical-align: middle;\n",
       "    }\n",
       "\n",
       "    .dataframe tbody tr th {\n",
       "        vertical-align: top;\n",
       "    }\n",
       "\n",
       "    .dataframe thead th {\n",
       "        text-align: right;\n",
       "    }\n",
       "</style>\n",
       "<table border=\"1\" class=\"dataframe\">\n",
       "  <thead>\n",
       "    <tr style=\"text-align: right;\">\n",
       "      <th></th>\n",
       "      <th>ago</th>\n",
       "      <th>brought</th>\n",
       "      <th>conceived</th>\n",
       "      <th>created</th>\n",
       "      <th>dedicated</th>\n",
       "      <th>equal</th>\n",
       "      <th>equals</th>\n",
       "      <th>fathers</th>\n",
       "      <th>forth</th>\n",
       "      <th>freedom</th>\n",
       "      <th>liberty</th>\n",
       "      <th>men</th>\n",
       "      <th>nation</th>\n",
       "      <th>new</th>\n",
       "      <th>proposition</th>\n",
       "      <th>score</th>\n",
       "      <th>years</th>\n",
       "    </tr>\n",
       "  </thead>\n",
       "  <tbody>\n",
       "    <tr>\n",
       "      <th>Line 1</th>\n",
       "      <td>1</td>\n",
       "      <td>1</td>\n",
       "      <td>0</td>\n",
       "      <td>0</td>\n",
       "      <td>0</td>\n",
       "      <td>0</td>\n",
       "      <td>0</td>\n",
       "      <td>1</td>\n",
       "      <td>1</td>\n",
       "      <td>0</td>\n",
       "      <td>0</td>\n",
       "      <td>0</td>\n",
       "      <td>0</td>\n",
       "      <td>0</td>\n",
       "      <td>0</td>\n",
       "      <td>1</td>\n",
       "      <td>1</td>\n",
       "    </tr>\n",
       "    <tr>\n",
       "      <th>Line 2</th>\n",
       "      <td>0</td>\n",
       "      <td>0</td>\n",
       "      <td>1</td>\n",
       "      <td>0</td>\n",
       "      <td>0</td>\n",
       "      <td>0</td>\n",
       "      <td>0</td>\n",
       "      <td>0</td>\n",
       "      <td>0</td>\n",
       "      <td>0</td>\n",
       "      <td>1</td>\n",
       "      <td>0</td>\n",
       "      <td>1</td>\n",
       "      <td>1</td>\n",
       "      <td>0</td>\n",
       "      <td>0</td>\n",
       "      <td>0</td>\n",
       "    </tr>\n",
       "    <tr>\n",
       "      <th>Line 3</th>\n",
       "      <td>0</td>\n",
       "      <td>0</td>\n",
       "      <td>0</td>\n",
       "      <td>1</td>\n",
       "      <td>1</td>\n",
       "      <td>1</td>\n",
       "      <td>0</td>\n",
       "      <td>0</td>\n",
       "      <td>0</td>\n",
       "      <td>0</td>\n",
       "      <td>0</td>\n",
       "      <td>1</td>\n",
       "      <td>0</td>\n",
       "      <td>0</td>\n",
       "      <td>1</td>\n",
       "      <td>0</td>\n",
       "      <td>0</td>\n",
       "    </tr>\n",
       "    <tr>\n",
       "      <th>Line 4</th>\n",
       "      <td>0</td>\n",
       "      <td>0</td>\n",
       "      <td>0</td>\n",
       "      <td>0</td>\n",
       "      <td>0</td>\n",
       "      <td>0</td>\n",
       "      <td>1</td>\n",
       "      <td>0</td>\n",
       "      <td>0</td>\n",
       "      <td>2</td>\n",
       "      <td>0</td>\n",
       "      <td>0</td>\n",
       "      <td>2</td>\n",
       "      <td>0</td>\n",
       "      <td>0</td>\n",
       "      <td>0</td>\n",
       "      <td>0</td>\n",
       "    </tr>\n",
       "  </tbody>\n",
       "</table>\n",
       "</div>"
      ]
     },
     "execution_count": 1,
     "metadata": {},
     "output_type": "execute_result"
    }
   ],
   "execution_count": 1
  },
  {
   "cell_type": "markdown",
   "metadata": {
    "id": "gXehfMsVJdWf"
   },
   "source": [
    "The code below is similar to the previous code, but with an additional step to preprocess the text before creating the word matrix.This preprocessing step can help to reduce the dimensionality of the word matrix and remove noise from the data. By removing all digits, the algorithm will not distinguish between numbers and words. By converting all text to lowercase, the algorithm will treat uppercase and lowercase versions of the same word as the same."
   ]
  },
  {
   "cell_type": "code",
   "metadata": {
    "id": "vksZiAnpJHyp",
    "ExecuteTime": {
     "end_time": "2024-09-09T17:40:30.129204Z",
     "start_time": "2024-09-09T17:40:30.119164Z"
    }
   },
   "source": [
    "import re\n",
    "# The preprocess_text function uses the re.sub() method from Python's regular expression library (re) to remove all digits from the text and convert it to lowercase.\n",
    "def preprocess_text(text):\n",
    "    return re.sub(r'\\d+', '', text).lower()\n",
    "\n",
    "# The word matrix is created using the same CountVectorizer instance and the additional preprocessor parameter set to preprocess_text\n",
    "vectorizer = CountVectorizer(stop_words='english', preprocessor=preprocess_text)\n",
    "\n",
    "# Convert the text to vectorizer\n",
    "word_matrix = vectorizer.fit_transform(lines)"
   ],
   "outputs": [],
   "execution_count": 2
  },
  {
   "cell_type": "markdown",
   "metadata": {
    "id": "RhJtX0tfJpbH"
   },
   "source": [
    "# Exercise - part 4.1-Develop the text classification model for the traffic sentiment analysis"
   ]
  },
  {
   "cell_type": "markdown",
   "metadata": {
    "id": "Ak3x15ugDsFe"
   },
   "source": [
    "The following code is utilized for traffic sentiment analysis and employs the Pakistani Traffic Sentiment Analysis dataset as an illustrative example. This dataset comprises two columns: 'Text' and 'Sentiment.' The 'Text' column encompasses sentiments related to Pakistani traffic, encompassing both positive and negative reviews. The 'Sentiment' column is employed to categorize each sentiment, with positive reviews labeled as '0' and negative reviews as '1'.\n",
    "\n",
    "As discussed in the lecture, the sentiment analysis is modeled as a binary classification problem. The task will use the Logistic Regression as the classification model and guide you through the step-by-step process of the whole process of the model development for the traffic sentiment analysis.   "
   ]
  },
  {
   "cell_type": "markdown",
   "metadata": {
    "id": "ML9PdR8XDsFe"
   },
   "source": [
    "Load the dataset:"
   ]
  },
  {
   "cell_type": "code",
   "metadata": {
    "colab": {
     "base_uri": "https://localhost:8080/",
     "height": 206
    },
    "id": "AfQiWf5WJd5_",
    "outputId": "88f5c4a1-639f-41f0-f6cf-be6309033e8a",
    "ExecuteTime": {
     "end_time": "2024-09-09T17:40:36.759762Z",
     "start_time": "2024-09-09T17:40:36.219110Z"
    }
   },
   "source": [
    "import pandas as pd\n",
    "import os\n",
    "\n",
    "# The path of the dataset\n",
    "url = 'https://raw.githubusercontent.com/zhenliangma/Applied-AI-in-Transportation/master/Exercise_4_Text_classification/Pakistani%20Traffic%20sentiment%20Analysis.csv'\n",
    "\n",
    "# Load the data use the pandas\n",
    "df = pd.read_csv(url)\n",
    "\n",
    "# Display the data\n",
    "df.head()"
   ],
   "outputs": [
    {
     "data": {
      "text/plain": [
       "                                                Text  Sentiment\n",
       "0                              Adayala road is clear          0\n",
       "1  Traffic jam from parbat rd to nazim-ud-din rd ...          1\n",
       "2                                    Mandra is clear          0\n",
       "3                               Fort street is clear          0\n",
       "4  Mashriq Hotel towards Fawara Chowk, City Sadda...          1"
      ],
      "text/html": [
       "<div>\n",
       "<style scoped>\n",
       "    .dataframe tbody tr th:only-of-type {\n",
       "        vertical-align: middle;\n",
       "    }\n",
       "\n",
       "    .dataframe tbody tr th {\n",
       "        vertical-align: top;\n",
       "    }\n",
       "\n",
       "    .dataframe thead th {\n",
       "        text-align: right;\n",
       "    }\n",
       "</style>\n",
       "<table border=\"1\" class=\"dataframe\">\n",
       "  <thead>\n",
       "    <tr style=\"text-align: right;\">\n",
       "      <th></th>\n",
       "      <th>Text</th>\n",
       "      <th>Sentiment</th>\n",
       "    </tr>\n",
       "  </thead>\n",
       "  <tbody>\n",
       "    <tr>\n",
       "      <th>0</th>\n",
       "      <td>Adayala road is clear</td>\n",
       "      <td>0</td>\n",
       "    </tr>\n",
       "    <tr>\n",
       "      <th>1</th>\n",
       "      <td>Traffic jam from parbat rd to nazim-ud-din rd ...</td>\n",
       "      <td>1</td>\n",
       "    </tr>\n",
       "    <tr>\n",
       "      <th>2</th>\n",
       "      <td>Mandra is clear</td>\n",
       "      <td>0</td>\n",
       "    </tr>\n",
       "    <tr>\n",
       "      <th>3</th>\n",
       "      <td>Fort street is clear</td>\n",
       "      <td>0</td>\n",
       "    </tr>\n",
       "    <tr>\n",
       "      <th>4</th>\n",
       "      <td>Mashriq Hotel towards Fawara Chowk, City Sadda...</td>\n",
       "      <td>1</td>\n",
       "    </tr>\n",
       "  </tbody>\n",
       "</table>\n",
       "</div>"
      ]
     },
     "execution_count": 3,
     "metadata": {},
     "output_type": "execute_result"
    }
   ],
   "execution_count": 3
  },
  {
   "cell_type": "markdown",
   "source": [
    "Using the wordcloud to visualize the dataset\n",
    "\n"
   ],
   "metadata": {
    "id": "VF5ejzBqKwsC"
   }
  },
  {
   "cell_type": "code",
   "source": [
    "from wordcloud import WordCloud\n",
    "import matplotlib.pyplot as plt\n",
    "text = df['Text'].values\n",
    "\n",
    "wordcloud = WordCloud().generate(str(text))\n",
    "\n",
    "plt.imshow(wordcloud)\n",
    "plt.axis(\"off\")\n",
    "plt.show()"
   ],
   "metadata": {
    "colab": {
     "base_uri": "https://localhost:8080/",
     "height": 285
    },
    "id": "wBlEtHj87rcL",
    "outputId": "ec7a4058-9679-4ccb-c3fd-245333c45175",
    "ExecuteTime": {
     "end_time": "2024-09-09T17:40:42.371963Z",
     "start_time": "2024-09-09T17:40:40.719382Z"
    }
   },
   "outputs": [
    {
     "data": {
      "text/plain": [
       "<Figure size 640x480 with 1 Axes>"
      ],
      "image/png": "[encoded data removed]"
     },
     "metadata": {},
     "output_type": "display_data"
    }
   ],
   "execution_count": 4
  },
  {
   "cell_type": "markdown",
   "source": [
    "Print a brief summary of the dataset"
   ],
   "metadata": {
    "id": "QAQmaPfQvRxC"
   }
  },
  {
   "cell_type": "code",
   "metadata": {
    "colab": {
     "base_uri": "https://localhost:8080/"
    },
    "id": "UBLWDMJOJ4l9",
    "outputId": "c281ae52-7135-4732-bd36-ce57d1d12b0f"
   },
   "source": [
    "df.info()"
   ],
   "outputs": [],
   "execution_count": null
  },
  {
   "cell_type": "markdown",
   "metadata": {
    "id": "fIHH-6oqKI9_"
   },
   "source": [
    "Use the following statement to see how many instances there are of each class (0 for positive and 1 for negative):"
   ]
  },
  {
   "cell_type": "code",
   "metadata": {
    "colab": {
     "base_uri": "https://localhost:8080/",
     "height": 174
    },
    "id": "fVHhb1Y9KCyt",
    "outputId": "9698f967-81d4-4dd7-998e-ef3e815f96d2"
   },
   "source": [
    "# Displaying the instances of each class\n",
    "df.groupby('Sentiment').describe()"
   ],
   "outputs": [],
   "execution_count": null
  },
  {
   "cell_type": "markdown",
   "metadata": {
    "id": "KUQBRRP6KT19"
   },
   "source": [
    "There is an even number of positive and negative samples, but in each case, the number of unique samples is less than the number of samples for that class. That means the dataset has duplicate rows, and duplicate rows could bias a machine learning model. Use the following statements to delete the duplicate rows and check for balance again:"
   ]
  },
  {
   "cell_type": "code",
   "metadata": {
    "colab": {
     "base_uri": "https://localhost:8080/",
     "height": 174
    },
    "id": "HVbOJxjWKNOF",
    "outputId": "f278ae7d-623d-4075-a26b-093c16f51a46"
   },
   "source": [
    "# Delete the duplicate rows\n",
    "df = df.drop_duplicates()\n",
    "\n",
    "# Displaying the instances of each class\n",
    "df.groupby('Sentiment').describe()"
   ],
   "outputs": [],
   "execution_count": null
  },
  {
   "cell_type": "markdown",
   "metadata": {
    "id": "JzZoGbwfKbet"
   },
   "source": [
    "Now there are no duplicate rows, and the number of positive and negative samples is roughly equal.\n",
    "\n",
    "Next, use CountVectorizer to prepare and vectorize the text in the Text column:"
   ]
  },
  {
   "cell_type": "code",
   "metadata": {
    "id": "Zs4JUPApKWBF"
   },
   "source": [
    "from sklearn.feature_extraction.text import CountVectorizer\n",
    "\n",
    "# Creat the CountVectorizer instance,the ngram_range represents the length range of phrase segmentation,the stop_words parameter is set to \"english\" to remove common English stop words like \"and\", \"the\", and \"a\" ,min_df is to serve as a threshold to delete some words.\n",
    "vectorizer = CountVectorizer(ngram_range=(1, 2), stop_words='english',min_df=20)\n",
    "\n",
    "# Convert the text to vectorizer\n",
    "x = vectorizer.fit_transform(df['Text'])\n",
    "\n",
    "# Obtain the label\n",
    "y = df['Sentiment']"
   ],
   "outputs": [],
   "execution_count": null
  },
  {
   "cell_type": "markdown",
   "metadata": {
    "id": "87hPPRRFKq-O"
   },
   "source": [
    "Now split the dataset for training and testing. We’ll use a 80/20 split since there are almost 2,000 samples in total:"
   ]
  },
  {
   "cell_type": "code",
   "metadata": {
    "id": "yiVsNkZzKeVO"
   },
   "source": [
    "from sklearn.model_selection import train_test_split\n",
    "\n",
    "# Splite the train and test data\n",
    "x_train, x_test, y_train, y_test = train_test_split(x, y, test_size=0.2,random_state=0)"
   ],
   "outputs": [],
   "execution_count": null
  },
  {
   "cell_type": "markdown",
   "metadata": {
    "id": "9psADrv9Kx50"
   },
   "source": [
    "The next step is to train a classifier. We’ll use Scikit’s LogisticRegression class, which uses logistic regression to fit a model to the data:"
   ]
  },
  {
   "cell_type": "code",
   "metadata": {
    "colab": {
     "base_uri": "https://localhost:8080/",
     "height": 74
    },
    "id": "qDXGS3S4KvAc",
    "outputId": "8f3d2c3e-4358-471a-af52-1afd670990f3"
   },
   "source": [
    "from sklearn.linear_model import LogisticRegression\n",
    "\n",
    "# Creat the model, max_iter controls the maximum number of iterations, random_state provides a seed for the random number generator\n",
    "model = LogisticRegression(max_iter=1000, random_state=0)\n",
    "\n",
    "# Trains the logistic regression model using the training data.\n",
    "model.fit(x_train, y_train)"
   ],
   "outputs": [],
   "execution_count": null
  },
  {
   "cell_type": "markdown",
   "metadata": {
    "id": "GLxnBB6eK4yc"
   },
   "source": [
    "Validate the trained model with the 20% of the dataset set aside for testing and show the results in a confusion matrix and accuracy:"
   ]
  },
  {
   "cell_type": "code",
   "metadata": {
    "colab": {
     "base_uri": "https://localhost:8080/",
     "height": 467
    },
    "id": "6bQNI1UYKz30",
    "outputId": "0403d2f7-725e-4729-a025-6923521d9340"
   },
   "source": [
    "%matplotlib inline\n",
    "from sklearn.metrics import ConfusionMatrixDisplay as cmd\n",
    "from sklearn.metrics import accuracy_score\n",
    "\n",
    "# Show the results in a confusion matrix\n",
    "cmd.from_estimator(model, x_test, y_test,display_labels=['Positive','Negative'],cmap='Blues')\n",
    "\n",
    "# Calculate accuracy\n",
    "print('The accuracy of the model is: '+str(accuracy_score(y_test,model.predict(x_test))))"
   ],
   "outputs": [],
   "execution_count": null
  },
  {
   "cell_type": "markdown",
   "metadata": {
    "id": "XqabobUiLA0c"
   },
   "source": [
    "***Activity during the break: Let’s fool the model***\n",
    "\n",
    "Analyzing text for sentiment. Use the following statements to produce a sentiment score and classification for the sentence “Adayala road is clear”.\n",
    "\n",
    "you can phrase some your own reviews (e.g., suppose you want make a post on social media, what you would write about your own experience on traffic or public transport travels in your city).\n",
    "\n",
    "you can also try to fool the model and compare the results with ChatGPT."
   ]
  },
  {
   "cell_type": "code",
   "metadata": {
    "id": "BP05rIBhK7_d",
    "colab": {
     "base_uri": "https://localhost:8080/"
    },
    "outputId": "73d67a26-741c-469b-b987-330a78ce857d"
   },
   "source": [
    "# Here you change the reviews\n",
    "text = 'Adayala road is clear'\n",
    "\n",
    "# Make a prediction for this review\n",
    "score=model.predict_proba(vectorizer.transform([text]))[0][1]\n",
    "\n",
    "if score >0.5:\n",
    "  attitude='negative'\n",
    "else:\n",
    "  attitude='positive'\n",
    "\n",
    "print('The prediction result of this review is: '+ attitude)"
   ],
   "outputs": [],
   "execution_count": null
  },
  {
   "cell_type": "markdown",
   "metadata": {
    "id": "qxzZxDEHLFis"
   },
   "source": [
    "# Exercise - part 4.2-Explore the performance of different text vectorization methods"
   ]
  },
  {
   "cell_type": "markdown",
   "metadata": {
    "id": "ZX8kyPqfDsFh"
   },
   "source": [
    "The task will explore the impact of text vectorization methods on traffic sentiment analysis performance. You are expected to explore three different text vectorization models: CountVectorizer, HashingVectorizer, and TfidfVectorizer.  "
   ]
  },
  {
   "cell_type": "code",
   "metadata": {
    "id": "Wki8RaErDsFh",
    "colab": {
     "base_uri": "https://localhost:8080/",
     "height": 516
    },
    "outputId": "68423a0c-8782-48f7-e355-e947c1ea0d24"
   },
   "source": [
    "import pandas as pd\n",
    "from sklearn.feature_extraction.text import CountVectorizer\n",
    "from sklearn.feature_extraction.text import TfidfVectorizer\n",
    "from sklearn.feature_extraction.text import HashingVectorizer\n",
    "from sklearn.linear_model import LogisticRegression\n",
    "from sklearn.model_selection import train_test_split\n",
    "%matplotlib inline\n",
    "from sklearn.metrics import ConfusionMatrixDisplay as cmd\n",
    "import os\n",
    "\n",
    "# here you can try use different vectorization methods (Attention! uncomment the method you want to test, and comment out the other methods)\n",
    "#-*-*-*-*-*-*chose different vectorization-*-*-*-*-*-*\n",
    "\n",
    "#(1) CountVectorizer\n",
    "# vectorizer = CountVectorizer(ngram_range=(1, 2), stop_words='english',min_df=20)\n",
    "\n",
    "#(2) #HashingVectorizer\n",
    "# vectorizer = HashingVectorizer(ngram_range=(1, 2), n_features=200)\n",
    "\n",
    "#(3)TfidfVectorizer\n",
    "vectorizer = TfidfVectorizer(min_df=20,norm='l2',smooth_idf=True,use_idf=True,ngram_range=(1, 1),stop_words='english')\n",
    "\n",
    "#-*-*-*-*-*-*chose different vectorization-*-*-*-*-*-*\n",
    "x = vectorizer.fit_transform(df['Text'])\n",
    "y = df['Sentiment']\n",
    "x_train, x_test, y_train, y_test = train_test_split(x,y,test_size=0.2,random_state=0)\n",
    "\n",
    "model = LogisticRegression(max_iter=1000, random_state=0)\n",
    "model.fit(x_train, y_train)\n",
    "cmd.from_estimator(model, x_test, y_test, display_labels=['Positive','Negative'],cmap='Blues', xticks_rotation='vertical')\n",
    "\n",
    "#calculate accuracy\n",
    "print('The accuracy of the model is: '+str(accuracy_score(y_test,model.predict(x_test))))"
   ],
   "outputs": [],
   "execution_count": null
  },
  {
   "cell_type": "markdown",
   "metadata": {
    "id": "fts675OXDsFh"
   },
   "source": [
    "# Exercise - part 4.3-Explore the performance of different text classification models"
   ]
  },
  {
   "cell_type": "markdown",
   "metadata": {
    "id": "avHzedDFDsFh"
   },
   "source": [
    "The task will explore the performance of different models in traffic sentiment analysis. You are expected to explore different text classification methods, including LR, KNN, RF, XGBoost, etc.  "
   ]
  },
  {
   "cell_type": "code",
   "metadata": {
    "id": "q8SwgWSyDsFh",
    "colab": {
     "base_uri": "https://localhost:8080/",
     "height": 516
    },
    "outputId": "3da1f2af-7f70-4c80-baa5-e15f385cb0ff",
    "ExecuteTime": {
     "end_time": "2024-09-09T17:41:08.924734Z",
     "start_time": "2024-09-09T17:41:05.887872Z"
    }
   },
   "source": [
    "import pandas as pd\n",
    "from sklearn.feature_extraction.text import CountVectorizer\n",
    "from sklearn.feature_extraction.text import TfidfVectorizer\n",
    "from sklearn.linear_model import LogisticRegression\n",
    "from sklearn.model_selection import train_test_split\n",
    "%matplotlib inline\n",
    "from sklearn.metrics import ConfusionMatrixDisplay as cmd\n",
    "from sklearn.neighbors import KNeighborsClassifier\n",
    "from sklearn.ensemble import RandomForestClassifier\n",
    "from xgboost import XGBClassifier\n",
    "from sklearn.svm import SVC\n",
    "from sklearn.naive_bayes import BernoulliNB\n",
    "import os\n",
    "\n",
    "vectorizer = TfidfVectorizer(min_df=20,norm='l2',smooth_idf=True,use_idf=True,ngram_range=(1, 1),stop_words='english')\n",
    "x = vectorizer.fit_transform(df['Text'])\n",
    "y = df['Sentiment']\n",
    "x_train, x_test, y_train, y_test = train_test_split(x, y, test_size=0.2,random_state=0)\n",
    "\n",
    "# here you can try use different models (Attention! uncomment the method you want to test, and comment out the other methods)\n",
    "#-*-*-*-*-*-*chose different models-*-*-*-*-*-*\n",
    "\n",
    "#(1)LR\n",
    "model = LogisticRegression(max_iter=1000, random_state=0)\n",
    "\n",
    "#(2)KNN\n",
    "# model=KNeighborsClassifier()\n",
    "\n",
    "#(3)RF\n",
    "# model = RandomForestClassifier(random_state=0)\n",
    "\n",
    "#(4)XGBoost\n",
    "# model =  XGBClassifier()\n",
    "\n",
    "#(5)SVM\n",
    "# model= SVC(kernel=\"linear\")\n",
    "\n",
    "#(6)Naïve Bayes models\n",
    "# model=BernoulliNB()\n",
    "#-*-*-*-*-*-*chose different models-*-*-*-*-*-*\n",
    "model.fit(x_train, y_train)\n",
    "cmd.from_estimator(model, x_test, y_test,display_labels=['Positive','Negative'],cmap='Blues', xticks_rotation='vertical')\n",
    "\n",
    "#calculate accuracy\n",
    "print('The accuracy of the model is: '+str(accuracy_score(y_test,model.predict(x_test))))"
   ],
   "outputs": [
    {
     "ename": "NameError",
     "evalue": "name 'accuracy_score' is not defined",
     "output_type": "error",
     "traceback": [
      "\u001B[1;31m---------------------------------------------------------------------------\u001B[0m",
      "\u001B[1;31mNameError\u001B[0m                                 Traceback (most recent call last)",
      "Cell \u001B[1;32mIn[5], line 45\u001B[0m\n\u001B[0;32m     42\u001B[0m cmd\u001B[38;5;241m.\u001B[39mfrom_estimator(model, x_test, y_test,display_labels\u001B[38;5;241m=\u001B[39m[\u001B[38;5;124m'\u001B[39m\u001B[38;5;124mPositive\u001B[39m\u001B[38;5;124m'\u001B[39m,\u001B[38;5;124m'\u001B[39m\u001B[38;5;124mNegative\u001B[39m\u001B[38;5;124m'\u001B[39m],cmap\u001B[38;5;241m=\u001B[39m\u001B[38;5;124m'\u001B[39m\u001B[38;5;124mBlues\u001B[39m\u001B[38;5;124m'\u001B[39m, xticks_rotation\u001B[38;5;241m=\u001B[39m\u001B[38;5;124m'\u001B[39m\u001B[38;5;124mvertical\u001B[39m\u001B[38;5;124m'\u001B[39m)\n\u001B[0;32m     44\u001B[0m \u001B[38;5;66;03m#calculate accuracy\u001B[39;00m\n\u001B[1;32m---> 45\u001B[0m \u001B[38;5;28mprint\u001B[39m(\u001B[38;5;124m'\u001B[39m\u001B[38;5;124mThe accuracy of the model is: \u001B[39m\u001B[38;5;124m'\u001B[39m\u001B[38;5;241m+\u001B[39m\u001B[38;5;28mstr\u001B[39m(\u001B[43maccuracy_score\u001B[49m(y_test,model\u001B[38;5;241m.\u001B[39mpredict(x_test))))\n",
      "\u001B[1;31mNameError\u001B[0m: name 'accuracy_score' is not defined"
     ]
    },
    {
     "data": {
      "text/plain": [
       "<Figure size 640x480 with 2 Axes>"
      ],
      "image/png": "[encoded data removed]"
     },
     "metadata": {},
     "output_type": "display_data"
    }
   ],
   "execution_count": 5
  },
  {
   "cell_type": "markdown",
   "metadata": {
    "id": "QbJcT_mUDsFh"
   },
   "source": [
    "# Exercise - Assignment task-Find the best text classification model for the sentimental analysis (assignment submission)"
   ]
  },
  {
   "cell_type": "markdown",
   "metadata": {
    "id": "_jA0t3TsDsFh"
   },
   "source": [
    "The tasks for this part is use the grid search to: (1)Identify which vectorization method works the best or basically not much difference. (2)Identify which model, together with its corresponding hyperparameters, gives the best performance for traffic sentimental analysis."
   ]
  },
  {
   "cell_type": "code",
   "metadata": {
    "id": "0KNzQrz7DsFh",
    "colab": {
     "base_uri": "https://localhost:8080/",
     "height": 534
    },
    "outputId": "005bf2d6-ab28-4ad6-ce41-900554c26b83"
   },
   "source": [
    "import pandas as pd\n",
    "from sklearn.feature_extraction.text import CountVectorizer\n",
    "from sklearn.feature_extraction.text import TfidfVectorizer\n",
    "from sklearn.linear_model import LogisticRegression\n",
    "from sklearn.model_selection import train_test_split\n",
    "%matplotlib inline\n",
    "from sklearn.metrics import ConfusionMatrixDisplay as cmd\n",
    "from sklearn.neighbors import KNeighborsClassifier\n",
    "from sklearn.ensemble import RandomForestClassifier\n",
    "from xgboost import XGBClassifier\n",
    "from sklearn.svm import SVC\n",
    "from sklearn.naive_bayes import BernoulliNB\n",
    "import os\n",
    "from sklearn.model_selection import GridSearchCV\n",
    "\n",
    "\n",
    "#-*-*-*-*-*-*chose different vectorization-*-*-*-*-*-*\n",
    "\n",
    "#(1) CountVectorizer\n",
    "# vectorizer = CountVectorizer(ngram_range=(1, 2), stop_words='english',min_df=20)\n",
    "\n",
    "#(2) #HashingVectorizer\n",
    "# vectorizer = HashingVectorizer(ngram_range=(1, 2), n_features=200)\n",
    "\n",
    "#(3)TfidfVectorizer\n",
    "vectorizer = TfidfVectorizer(min_df=20,norm='l2',smooth_idf=True,use_idf=True,ngram_range=(1, 1),stop_words='english')\n",
    "\n",
    "#-*-*-*-*-*-*chose different vectorization-*-*-*-*-*-*\n",
    "\n",
    "x = vectorizer.fit_transform(df['Text'])\n",
    "y = df['Sentiment']\n",
    "x_train, x_test, y_train, y_test = train_test_split(x, y, test_size=0.2,random_state=0)\n",
    "\n",
    "# here you can try use the grid search to find the best model parameter(a example is in SVM model)\n",
    "#-*-*-*-*-*-*-*-*-*-*-*-*-*-*-*-*-*-*\n",
    "#(1)LR\n",
    "# model = LogisticRegression(max_iter=1000, random_state=0)\n",
    "# param_grid = {\n",
    "#     'C': [0.001, 0.01, 0.1, 1, 10, 100],\n",
    "# }\n",
    "\n",
    "#(2)KNN\n",
    "# model=KNeighborsClassifier()\n",
    "# param_grid = {\n",
    "#     'n_neighbors': [3, 5, 7, 9],\n",
    "#     'weights': ['uniform', 'distance']\n",
    "# }\n",
    "\n",
    "#(3)RF\n",
    "# model = RandomForestClassifier(random_state=0)\n",
    "# param_grid = {\n",
    "#     'n_estimators': [100, 200, 300],\n",
    "#     'max_depth': [None, 10, 20, 30],\n",
    "#     'min_samples_split': [2, 5, 10],\n",
    "#     'min_samples_leaf': [1, 2, 4]\n",
    "# }\n",
    "\n",
    "#(4)XGBoost\n",
    "# model =  XGBClassifier()\n",
    "# param_grid = {\n",
    "#     'learning_rate': [0.01, 0.1, 0.2],\n",
    "#     'n_estimators': [100, 200, 300],\n",
    "#     'max_depth': [3, 4, 5]\n",
    "# }\n",
    "\n",
    "\n",
    "#(5)SVM\n",
    "model= SVC(probability=True)\n",
    "\n",
    "#this is an example to use the grid search to find the best parameter for SVM model\n",
    "#param_grid` specifies the hyperparameter grid to search over： kernel types ('linear', 'rbf', 'poly') and regularization strength C values（0.1, 1, 10）.\n",
    "param_grid = {'kernel': ['linear', 'rbf', 'poly'],'C': [0.1, 1, 10]}\n",
    "\n",
    "#`grid_search` performs a grid search with 5-fold cross-validation and evaluates models based on accuracy.\n",
    "grid_search = GridSearchCV(estimator=model, param_grid=param_grid, cv=5, scoring='accuracy')\n",
    "\n",
    "#`fit` method fits the model to the training data, systematically trying out all parameter combinations.\n",
    "grid_search.fit(x_train, y_train)\n",
    "\n",
    "#`best_params` and `best_score` store the best hyperparameters and their corresponding accuracy score.\n",
    "best_params = grid_search.best_params_\n",
    "print(best_params)\n",
    "best_score = grid_search.best_score_\n",
    "\n",
    "#The `model` is updated with the best estimator found during the grid search, which can be used for further analysis.\n",
    "model = grid_search.best_estimator_\n",
    "\n",
    "#(6)Naïve Bayes models\n",
    "# model=BernoulliNB()\n",
    "# param_grid = {'alpha': [0.1, 0.5, 1],'force_alpha': [True,False]}\n",
    "\n",
    "#-*-*-*-*-*-*-*-*-*-*-*-*-*-*-*-*-*-*\n",
    "\n",
    "cmd.from_estimator(model, x_test, y_test,display_labels=['Positive','Negative'],cmap='Blues', xticks_rotation='vertical')\n",
    "\n",
    "#calculate accuracy\n",
    "print('The accuracy of the model is: '+str(accuracy_score(y_test,model.predict(x_test))))"
   ],
   "outputs": [],
   "execution_count": null
  },
  {
   "cell_type": "code",
   "source": [
    "# Here you change the reviews\n",
    "text = 'Adayala road is clear'\n",
    "\n",
    "# Make a prediction for this review\n",
    "score=model.predict_proba(vectorizer.transform([text]))[0][1]\n",
    "\n",
    "if score >0.5:\n",
    "  attitude='negative'\n",
    "else:\n",
    "  attitude='positive'\n",
    "\n",
    "print('The prediction result of this review is: '+ attitude)"
   ],
   "metadata": {
    "colab": {
     "base_uri": "https://localhost:8080/"
    },
    "id": "IzrFFt8n4-hD",
    "outputId": "791bbc63-1d35-438d-e613-277829b7344d"
   },
   "outputs": [],
   "execution_count": null
  },
  {
   "metadata": {},
   "cell_type": "markdown",
   "source": "# Results"
  },
  {
   "metadata": {
    "ExecuteTime": {
     "end_time": "2024-09-09T17:41:15.462869Z",
     "start_time": "2024-09-09T17:41:15.421133Z"
    }
   },
   "cell_type": "code",
   "source": [
    "import pandas as pd\n",
    "from sklearn.feature_extraction.text import CountVectorizer, TfidfVectorizer, HashingVectorizer\n",
    "from sklearn.linear_model import LogisticRegression\n",
    "from sklearn.model_selection import train_test_split, GridSearchCV\n",
    "from sklearn.metrics import accuracy_score, mean_absolute_error, mean_squared_error, r2_score, ConfusionMatrixDisplay\n",
    "from sklearn.neighbors import KNeighborsClassifier\n",
    "from sklearn.ensemble import RandomForestClassifier\n",
    "from xgboost import XGBClassifier\n",
    "from sklearn.svm import SVC\n",
    "from sklearn.naive_bayes import BernoulliNB\n",
    "import numpy as np\n",
    "from fpdf import FPDF\n",
    "import matplotlib.pyplot as plt\n",
    "\n",
    "# Supongamos que df ya contiene los datos preparados con las columnas 'Text' y 'Sentiment'\n",
    "# df = pd.read_csv(\"tu_dataset.csv\")\n",
    "\n",
    "# Definir los tres vectorizadores\n",
    "vectorizers = {\n",
    "    'CountVectorizer': CountVectorizer(ngram_range=(1, 2), stop_words='english', min_df=20),\n",
    "    'HashingVectorizer': HashingVectorizer(ngram_range=(1, 2), n_features=200),\n",
    "    'TfidfVectorizer': TfidfVectorizer(min_df=20, norm='l2', smooth_idf=True, use_idf=True, ngram_range=(1, 1), stop_words='english')\n",
    "}\n",
    "\n",
    "# Definir los modelos y sus hiperparámetros\n",
    "models = {\n",
    "    'Logistic Regression': (LogisticRegression(max_iter=1000, random_state=0), {'C': [0.001, 0.01, 0.1, 1, 10, 100]}),\n",
    "    'K-Nearest Neighbors': (KNeighborsClassifier(), {'n_neighbors': [3, 5, 7, 9], 'weights': ['uniform', 'distance']}),\n",
    "    'Random Forest': (RandomForestClassifier(random_state=0, n_jobs=-1), {'n_estimators': [100, 200, 300], 'max_depth': [None, 10, 20, 30], 'min_samples_split': [2, 5, 10], 'min_samples_leaf': [1, 2, 4]}),\n",
    "    'XGBoost': (XGBClassifier(eval_metric='logloss', n_jobs=-1), {'learning_rate': [0.01, 0.1, 0.2], 'n_estimators': [100, 200, 300], 'max_depth': [3, 4, 5]}),\n",
    "    'Support Vector Machine': (SVC(probability=True), {'kernel': ['linear', 'rbf', 'poly'], 'C': [0.1, 1, 10]}),\n",
    "    'Naive Bayes': (BernoulliNB(), {'alpha': [0.1, 0.5, 1]})\n",
    "}\n"
   ],
   "outputs": [],
   "execution_count": 6
  },
  {
   "metadata": {
    "ExecuteTime": {
     "end_time": "2024-09-09T17:48:26.727507Z",
     "start_time": "2024-09-09T17:48:26.712593Z"
    }
   },
   "cell_type": "code",
   "source": [
    "from fpdf import FPDF\n",
    "import matplotlib.pyplot as plt\n",
    "\n",
    "# Clase para crear el PDF\n",
    "class PDF(FPDF):\n",
    "    def header(self):\n",
    "        self.set_font('Arial', 'B', 12)\n",
    "        self.cell(0, 10, 'Resultados de los Modelos de Clasificación', ln=1, align='C')\n",
    "\n",
    "    def footer(self):\n",
    "        self.set_y(-15)\n",
    "        self.set_font('Arial', 'I', 8)\n",
    "        self.cell(0, 10, f'Page {self.page_no()}', 0, 0, 'C')\n",
    "\n",
    "def save_confusion_matrix_image(model, X_test, y_test, model_name):\n",
    "    plt.figure()\n",
    "    cmd = ConfusionMatrixDisplay.from_estimator(model, X_test, y_test, display_labels=['Positive', 'Negative'], cmap='Blues', xticks_rotation='vertical')\n",
    "    plt.title(f'Matriz de Confusión - {model_name}')\n",
    "    image_path = f'{model_name}_confusion_matrix.png'\n",
    "    plt.savefig(image_path)\n",
    "    plt.close()\n",
    "    return image_path\n",
    "\n",
    "# Crear PDF\n",
    "pdf = PDF()\n",
    "pdf.add_page()"
   ],
   "outputs": [],
   "execution_count": 9
  },
  {
   "metadata": {
    "ExecuteTime": {
     "end_time": "2024-09-09T17:55:20.755413Z",
     "start_time": "2024-09-09T17:52:46.906649Z"
    }
   },
   "cell_type": "code",
   "source": [
    "# Iterar sobre cada vectorizador\n",
    "for vec_name, vectorizer in vectorizers.items():\n",
    "    print(f\"\\nUsing Vectorizer: {vec_name}\")\n",
    "    \n",
    "    # Transformar los datos de texto\n",
    "    X = vectorizer.fit_transform(df['Text'])\n",
    "    y = df['Sentiment']\n",
    "    \n",
    "    # Dividir los datos en conjunto de entrenamiento y prueba\n",
    "    X_train, X_test, y_train, y_test = train_test_split(X, y, test_size=0.2, random_state=0)\n",
    "\n",
    "    # Iterar sobre cada modelo\n",
    "    for model_name, (model, param_grid) in models.items():\n",
    "        print(f\"\\nTraining model: {model_name}\")\n",
    "        \n",
    "        # Realizar la búsqueda de hiperparámetros con GridSearchCV\n",
    "        grid_search = GridSearchCV(estimator=model, param_grid=param_grid, \n",
    "                                   cv=3, scoring='accuracy',\n",
    "                                   n_jobs=-1) #cv see the best value, also test n_iter=10\n",
    "        grid_search.fit(X_train, y_train)\n",
    "        \n",
    "        # Obtener el mejor modelo\n",
    "        best_model = grid_search.best_estimator_\n",
    "        best_params = grid_search.best_params_\n",
    "        best_score = grid_search.best_score_\n",
    "        \n",
    "        # Predicciones en el conjunto de prueba\n",
    "        y_pred = best_model.predict(X_test)\n",
    "\n",
    "        # Calcular métricas de evaluación\n",
    "        accuracy = accuracy_score(y_test, y_pred)\n",
    "        mae = mean_absolute_error(y_test, y_pred)\n",
    "        mse = mean_squared_error(y_test, y_pred)\n",
    "        rmse = np.sqrt(mse)\n",
    "        r2 = r2_score(y_test, y_pred)\n",
    "        \n",
    "        # Guardar la matriz de confusión como imagen\n",
    "        image_path = save_confusion_matrix_image(best_model, X_test, y_test, model_name)\n",
    "\n",
    "        # Agregar información al PDF\n",
    "        pdf.add_page()\n",
    "        pdf.set_font('Arial', 'B', 14)\n",
    "        pdf.cell(0, 10, f'Resultados para: {model_name}', ln=1, align='C')\n",
    "\n",
    "        # Agregar la imagen de la matriz de confusión\n",
    "        pdf.image(image_path, x=10, y=30, w=190)\n",
    "\n",
    "        # Mover la posición vertical después de la imagen\n",
    "        pdf.ln(100)  # Ajusta el espacio para que quede debajo de la imagen\n",
    "        \n",
    "        # Agregar métricas de evaluación\n",
    "        pdf.set_font('Arial', '', 12)\n",
    "        pdf.cell(0, 10, f'Best Parameters: {best_params}', ln=1)\n",
    "        pdf.cell(0, 10, f'Cross-Validation Accuracy: {best_score:.4f}', ln=1)\n",
    "        pdf.cell(0, 10, f'Test Accuracy: {accuracy:.4f}', ln=1)\n",
    "        pdf.cell(0, 10, f'MAE: {mae:.4f}', ln=1)\n",
    "        pdf.cell(0, 10, f'MSE: {mse:.4f}', ln=1)\n",
    "        pdf.cell(0, 10, f'RMSE: {rmse:.4f}', ln=1)\n",
    "        pdf.cell(0, 10, f'R²: {r2:.4f}', ln=1)\n",
    "\n",
    "# Guardar el PDF\n",
    "pdf.output('resultados_modelos.pdf')\n",
    "print(\"PDF creado con éxito: 'resultados_modelos.pdf'\")"
   ],
   "outputs": [
    {
     "name": "stdout",
     "output_type": "stream",
     "text": [
      "\n",
      "Using Vectorizer: CountVectorizer\n",
      "\n",
      "Training model: Logistic Regression\n",
      "\n",
      "Training model: K-Nearest Neighbors\n",
      "\n",
      "Training model: Random Forest\n",
      "\n",
      "Training model: XGBoost\n",
      "\n",
      "Training model: Support Vector Machine\n",
      "\n",
      "Training model: Naive Bayes\n",
      "\n",
      "Using Vectorizer: HashingVectorizer\n",
      "\n",
      "Training model: Logistic Regression\n",
      "\n",
      "Training model: K-Nearest Neighbors\n",
      "\n",
      "Training model: Random Forest\n",
      "\n",
      "Training model: XGBoost\n",
      "\n",
      "Training model: Support Vector Machine\n",
      "\n",
      "Training model: Naive Bayes\n",
      "\n",
      "Using Vectorizer: TfidfVectorizer\n",
      "\n",
      "Training model: Logistic Regression\n",
      "\n",
      "Training model: K-Nearest Neighbors\n",
      "\n",
      "Training model: Random Forest\n",
      "\n",
      "Training model: XGBoost\n",
      "\n",
      "Training model: Support Vector Machine\n",
      "\n",
      "Training model: Naive Bayes\n"
     ]
    },
    {
     "ename": "KeyError",
     "evalue": "'data'",
     "output_type": "error",
     "traceback": [
      "\u001B[1;31m---------------------------------------------------------------------------\u001B[0m",
      "\u001B[1;31mKeyError\u001B[0m                                  Traceback (most recent call last)",
      "Cell \u001B[1;32mIn[11], line 62\u001B[0m\n\u001B[0;32m     59\u001B[0m         pdf\u001B[38;5;241m.\u001B[39mcell(\u001B[38;5;241m0\u001B[39m, \u001B[38;5;241m10\u001B[39m, \u001B[38;5;124mf\u001B[39m\u001B[38;5;124m'\u001B[39m\u001B[38;5;124mR²: \u001B[39m\u001B[38;5;132;01m{\u001B[39;00mr2\u001B[38;5;132;01m:\u001B[39;00m\u001B[38;5;124m.4f\u001B[39m\u001B[38;5;132;01m}\u001B[39;00m\u001B[38;5;124m'\u001B[39m, ln\u001B[38;5;241m=\u001B[39m\u001B[38;5;241m1\u001B[39m)\n\u001B[0;32m     61\u001B[0m \u001B[38;5;66;03m# Guardar el PDF\u001B[39;00m\n\u001B[1;32m---> 62\u001B[0m \u001B[43mpdf\u001B[49m\u001B[38;5;241;43m.\u001B[39;49m\u001B[43moutput\u001B[49m\u001B[43m(\u001B[49m\u001B[38;5;124;43m'\u001B[39;49m\u001B[38;5;124;43mresultados_modelos.pdf\u001B[39;49m\u001B[38;5;124;43m'\u001B[39;49m\u001B[43m)\u001B[49m\n\u001B[0;32m     63\u001B[0m \u001B[38;5;28mprint\u001B[39m(\u001B[38;5;124m\"\u001B[39m\u001B[38;5;124mPDF creado con éxito: \u001B[39m\u001B[38;5;124m'\u001B[39m\u001B[38;5;124mresultados_modelos.pdf\u001B[39m\u001B[38;5;124m'\u001B[39m\u001B[38;5;124m\"\u001B[39m)\n",
      "File \u001B[1;32m~\\Documents\\Applied-AI-in-Transportation\\venv\\Lib\\site-packages\\fpdf\\fpdf.py:1065\u001B[0m, in \u001B[0;36mFPDF.output\u001B[1;34m(self, name, dest)\u001B[0m\n\u001B[0;32m   1063\u001B[0m \u001B[38;5;66;03m#Finish document if necessary\u001B[39;00m\n\u001B[0;32m   1064\u001B[0m \u001B[38;5;28;01mif\u001B[39;00m(\u001B[38;5;28mself\u001B[39m\u001B[38;5;241m.\u001B[39mstate\u001B[38;5;241m<\u001B[39m\u001B[38;5;241m3\u001B[39m):\n\u001B[1;32m-> 1065\u001B[0m     \u001B[38;5;28;43mself\u001B[39;49m\u001B[38;5;241;43m.\u001B[39;49m\u001B[43mclose\u001B[49m\u001B[43m(\u001B[49m\u001B[43m)\u001B[49m\n\u001B[0;32m   1066\u001B[0m dest\u001B[38;5;241m=\u001B[39mdest\u001B[38;5;241m.\u001B[39mupper()\n\u001B[0;32m   1067\u001B[0m \u001B[38;5;28;01mif\u001B[39;00m(dest\u001B[38;5;241m==\u001B[39m\u001B[38;5;124m'\u001B[39m\u001B[38;5;124m'\u001B[39m):\n",
      "File \u001B[1;32m~\\Documents\\Applied-AI-in-Transportation\\venv\\Lib\\site-packages\\fpdf\\fpdf.py:246\u001B[0m, in \u001B[0;36mFPDF.close\u001B[1;34m(self)\u001B[0m\n\u001B[0;32m    244\u001B[0m \u001B[38;5;28mself\u001B[39m\u001B[38;5;241m.\u001B[39m_endpage()\n\u001B[0;32m    245\u001B[0m \u001B[38;5;66;03m#close document\u001B[39;00m\n\u001B[1;32m--> 246\u001B[0m \u001B[38;5;28;43mself\u001B[39;49m\u001B[38;5;241;43m.\u001B[39;49m\u001B[43m_enddoc\u001B[49m\u001B[43m(\u001B[49m\u001B[43m)\u001B[49m\n",
      "File \u001B[1;32m~\\Documents\\Applied-AI-in-Transportation\\venv\\Lib\\site-packages\\fpdf\\fpdf.py:1637\u001B[0m, in \u001B[0;36mFPDF._enddoc\u001B[1;34m(self)\u001B[0m\n\u001B[0;32m   1635\u001B[0m \u001B[38;5;28mself\u001B[39m\u001B[38;5;241m.\u001B[39m_putheader()\n\u001B[0;32m   1636\u001B[0m \u001B[38;5;28mself\u001B[39m\u001B[38;5;241m.\u001B[39m_putpages()\n\u001B[1;32m-> 1637\u001B[0m \u001B[38;5;28;43mself\u001B[39;49m\u001B[38;5;241;43m.\u001B[39;49m\u001B[43m_putresources\u001B[49m\u001B[43m(\u001B[49m\u001B[43m)\u001B[49m\n\u001B[0;32m   1638\u001B[0m \u001B[38;5;66;03m#Info\u001B[39;00m\n\u001B[0;32m   1639\u001B[0m \u001B[38;5;28mself\u001B[39m\u001B[38;5;241m.\u001B[39m_newobj()\n",
      "File \u001B[1;32m~\\Documents\\Applied-AI-in-Transportation\\venv\\Lib\\site-packages\\fpdf\\fpdf.py:1585\u001B[0m, in \u001B[0;36mFPDF._putresources\u001B[1;34m(self)\u001B[0m\n\u001B[0;32m   1583\u001B[0m \u001B[38;5;28;01mdef\u001B[39;00m \u001B[38;5;21m_putresources\u001B[39m(\u001B[38;5;28mself\u001B[39m):\n\u001B[0;32m   1584\u001B[0m     \u001B[38;5;28mself\u001B[39m\u001B[38;5;241m.\u001B[39m_putfonts()\n\u001B[1;32m-> 1585\u001B[0m     \u001B[38;5;28;43mself\u001B[39;49m\u001B[38;5;241;43m.\u001B[39;49m\u001B[43m_putimages\u001B[49m\u001B[43m(\u001B[49m\u001B[43m)\u001B[49m\n\u001B[0;32m   1586\u001B[0m     \u001B[38;5;66;03m#Resource dictionary\u001B[39;00m\n\u001B[0;32m   1587\u001B[0m     \u001B[38;5;28mself\u001B[39m\u001B[38;5;241m.\u001B[39moffsets[\u001B[38;5;241m2\u001B[39m]\u001B[38;5;241m=\u001B[39m\u001B[38;5;28mlen\u001B[39m(\u001B[38;5;28mself\u001B[39m\u001B[38;5;241m.\u001B[39mbuffer)\n",
      "File \u001B[1;32m~\\Documents\\Applied-AI-in-Transportation\\venv\\Lib\\site-packages\\fpdf\\fpdf.py:1515\u001B[0m, in \u001B[0;36mFPDF._putimages\u001B[1;34m(self)\u001B[0m\n\u001B[0;32m   1513\u001B[0m \u001B[38;5;28;01mfor\u001B[39;00m idx,info \u001B[38;5;129;01min\u001B[39;00m i:\n\u001B[0;32m   1514\u001B[0m     \u001B[38;5;28mself\u001B[39m\u001B[38;5;241m.\u001B[39m_putimage(info)\n\u001B[1;32m-> 1515\u001B[0m     \u001B[38;5;28;01mdel\u001B[39;00m \u001B[43minfo\u001B[49m\u001B[43m[\u001B[49m\u001B[38;5;124;43m'\u001B[39;49m\u001B[38;5;124;43mdata\u001B[39;49m\u001B[38;5;124;43m'\u001B[39;49m\u001B[43m]\u001B[49m\n\u001B[0;32m   1516\u001B[0m     \u001B[38;5;28;01mif\u001B[39;00m \u001B[38;5;124m'\u001B[39m\u001B[38;5;124msmask\u001B[39m\u001B[38;5;124m'\u001B[39m \u001B[38;5;129;01min\u001B[39;00m info:\n\u001B[0;32m   1517\u001B[0m         \u001B[38;5;28;01mdel\u001B[39;00m info[\u001B[38;5;124m'\u001B[39m\u001B[38;5;124msmask\u001B[39m\u001B[38;5;124m'\u001B[39m]\n",
      "\u001B[1;31mKeyError\u001B[0m: 'data'"
     ]
    },
    {
     "data": {
      "text/plain": [
       "<Figure size 640x480 with 0 Axes>"
      ]
     },
     "metadata": {},
     "output_type": "display_data"
    },
    {
     "data": {
      "text/plain": [
       "<Figure size 640x480 with 0 Axes>"
      ]
     },
     "metadata": {},
     "output_type": "display_data"
    },
    {
     "data": {
      "text/plain": [
       "<Figure size 640x480 with 0 Axes>"
      ]
     },
     "metadata": {},
     "output_type": "display_data"
    },
    {
     "data": {
      "text/plain": [
       "<Figure size 640x480 with 0 Axes>"
      ]
     },
     "metadata": {},
     "output_type": "display_data"
    },
    {
     "data": {
      "text/plain": [
       "<Figure size 640x480 with 0 Axes>"
      ]
     },
     "metadata": {},
     "output_type": "display_data"
    },
    {
     "data": {
      "text/plain": [
       "<Figure size 640x480 with 0 Axes>"
      ]
     },
     "metadata": {},
     "output_type": "display_data"
    },
    {
     "data": {
      "text/plain": [
       "<Figure size 640x480 with 0 Axes>"
      ]
     },
     "metadata": {},
     "output_type": "display_data"
    },
    {
     "data": {
      "text/plain": [
       "<Figure size 640x480 with 0 Axes>"
      ]
     },
     "metadata": {},
     "output_type": "display_data"
    },
    {
     "data": {
      "text/plain": [
       "<Figure size 640x480 with 0 Axes>"
      ]
     },
     "metadata": {},
     "output_type": "display_data"
    },
    {
     "data": {
      "text/plain": [
       "<Figure size 640x480 with 0 Axes>"
      ]
     },
     "metadata": {},
     "output_type": "display_data"
    },
    {
     "data": {
      "text/plain": [
       "<Figure size 640x480 with 0 Axes>"
      ]
     },
     "metadata": {},
     "output_type": "display_data"
    },
    {
     "data": {
      "text/plain": [
       "<Figure size 640x480 with 0 Axes>"
      ]
     },
     "metadata": {},
     "output_type": "display_data"
    },
    {
     "data": {
      "text/plain": [
       "<Figure size 640x480 with 0 Axes>"
      ]
     },
     "metadata": {},
     "output_type": "display_data"
    },
    {
     "data": {
      "text/plain": [
       "<Figure size 640x480 with 0 Axes>"
      ]
     },
     "metadata": {},
     "output_type": "display_data"
    },
    {
     "data": {
      "text/plain": [
       "<Figure size 640x480 with 0 Axes>"
      ]
     },
     "metadata": {},
     "output_type": "display_data"
    },
    {
     "data": {
      "text/plain": [
       "<Figure size 640x480 with 0 Axes>"
      ]
     },
     "metadata": {},
     "output_type": "display_data"
    },
    {
     "data": {
      "text/plain": [
       "<Figure size 640x480 with 0 Axes>"
      ]
     },
     "metadata": {},
     "output_type": "display_data"
    },
    {
     "data": {
      "text/plain": [
       "<Figure size 640x480 with 0 Axes>"
      ]
     },
     "metadata": {},
     "output_type": "display_data"
    }
   ],
   "execution_count": 11
  },
  {
   "metadata": {},
   "cell_type": "code",
   "source": "",
   "outputs": [],
   "execution_count": null
  }
 ],
 "metadata": {
  "colab": {
   "provenance": []
  },
  "kernelspec": {
   "display_name": "Python 3",
   "language": "python",
   "name": "python3"
  },
  "language_info": {
   "codemirror_mode": {
    "name": "ipython",
    "version": 3
   },
   "file_extension": ".py",
   "mimetype": "text/x-python",
   "name": "python",
   "nbconvert_exporter": "python",
   "pygments_lexer": "ipython3",
   "version": "3.8.8"
  }
 },
 "nbformat": 4,
 "nbformat_minor": 0
}
